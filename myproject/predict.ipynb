{
 "cells": [
  {
   "cell_type": "code",
   "execution_count": 1,
   "metadata": {
    "collapsed": false
   },
   "outputs": [],
   "source": [
    "%matplotlib inline\n",
    "import pandas as pd\n",
    "import numpy as np\n",
    "import matplotlib.pyplot as plt\n",
    "from sklearn.pipeline import make_pipeline\n",
    "from sklearn.preprocessing import PolynomialFeatures\n",
    "from sklearn.linear_model import Ridge, LinearRegression, Lasso\n",
    "from sklearn.linear_model import Lasso\n",
    "from sklearn.cross_validation import LeaveOneOut, KFold\n",
    "from sklearn.metrics import mean_squared_error, mean_absolute_error"
   ]
  },
  {
   "cell_type": "code",
   "execution_count": 2,
   "metadata": {
    "collapsed": false
   },
   "outputs": [],
   "source": [
    "df = pd.read_csv(\"data/combined.csv\")"
   ]
  },
  {
   "cell_type": "code",
   "execution_count": 3,
   "metadata": {
    "collapsed": false
   },
   "outputs": [],
   "source": [
    "\"\"\"\n",
    "Run LOO cross-validation using a list of features for the regression.\n",
    "\"\"\"\n",
    "def predict_loo(x_col_names, df, model):    \n",
    "    loo = LeaveOneOut(len(df))\n",
    "    scores = []\n",
    "    n_features = len(x_col_names)\n",
    "    for train, test in loo:\n",
    "        x_train = df.iloc[train][x_col_names].values.reshape(-1, n_features)\n",
    "        y_train = df.iloc[train][\"murder_rate\"].values.reshape(-1, 1)\n",
    "        model.fit(x_train, y_train)        \n",
    "        x_test = df.iloc[test][x_col_names].values.reshape(-1, n_features)     \n",
    "        est = model.predict(x_test)\n",
    "        scores.extend(est)        \n",
    "    return scores"
   ]
  },
  {
   "cell_type": "code",
   "execution_count": 15,
   "metadata": {
    "collapsed": true
   },
   "outputs": [],
   "source": [
    "\"\"\"\n",
    "Run kfold cross-validation using a list of features for the regression.\n",
    "\"\"\"\n",
    "def predict_kfold(x_col_names, df, model, n_folds=10):\n",
    "    predictions = []\n",
    "    kf = KFold(len(df), n_folds)\n",
    "    n_features = len(x_col_names)\n",
    "    for train, test in kf:\n",
    "        x_train = df.iloc[train][x_col_names].values.reshape(-1, n_features)\n",
    "        y_train = df.iloc[train][\"murder_rate\"].values.reshape(-1, 1)        \n",
    "        model.fit(x_train, y_train)\n",
    "        x_test = df.iloc[test][x_col_names].values.reshape(-1, n_features)\n",
    "        est = model.predict(x_test)\n",
    "        predictions.extend(est)           \n",
    "    return predictions"
   ]
  },
  {
   "cell_type": "code",
   "execution_count": 16,
   "metadata": {
    "collapsed": true
   },
   "outputs": [],
   "source": [
    "\"\"\"\n",
    "Compute residuals between lists of truth and predicted values.\n",
    "\"\"\"\n",
    "def residuals(truth, predicted):\n",
    "    res = []\n",
    "    for t,r in zip(truth, predicted):\n",
    "        res.append(t - r)\n",
    "    return res"
   ]
  },
  {
   "cell_type": "code",
   "execution_count": 17,
   "metadata": {
    "collapsed": false
   },
   "outputs": [],
   "source": [
    "# model for testing\n",
    "model = make_pipeline(PolynomialFeatures(4), Lasso(alpha=0.2, max_iter=1000))\n",
    "\n",
    "#model = make_pipeline(PolynomialFeatures(4), Ridge(alpha=0.2))\n",
    "\n",
    "# this is ground truth values\n",
    "truth = df[\"murder_rate\"].values"
   ]
  },
  {
   "cell_type": "markdown",
   "metadata": {},
   "source": [
    "<h3>Predicted Murder Rate by Percentage Graduate HS</h3>"
   ]
  },
  {
   "cell_type": "markdown",
   "metadata": {},
   "source": [
    "<h4>Leave One Out</h4>"
   ]
  },
  {
   "cell_type": "code",
   "execution_count": 31,
   "metadata": {
    "collapsed": false
   },
   "outputs": [],
   "source": [
    "# run LOO cross-validation using test model\n",
    "predicted = predict_loo([\"no_high_school\"], df, model)            \n",
    "\n",
    "# compute residuals\n",
    "res = residuals(truth, predicted)"
   ]
  },
  {
   "cell_type": "code",
   "execution_count": 32,
   "metadata": {
    "collapsed": false
   },
   "outputs": [
    {
     "name": "stdout",
     "output_type": "stream",
     "text": [
      "[ 4.2  4.4  5.5  4.5  4.9  2.3  3.7  5.3  5.   5.3  1.8  1.3  3.5  3.1  1.2\n",
      "  3.5  4.5  9.6  1.8  7.3  3.2  5.6  1.7  5.6  7.   2.1  2.8  5.9  1.   4.1\n",
      "  5.7  4.4  4.7  1.3  4.   5.   2.   5.1  2.8  6.1  1.7  5.6  5.   1.9  1.1\n",
      "  4.6  2.2  3.   2.7  1.4]\n",
      "[5.5433058207533943, 1.4437790801243442, 5.2713810504360961, 5.5347479348733515, 5.1563769384860763, 2.9693041379705916, 3.3466043792925326, 3.968578367537555, 4.9537850182103247, 5.3498413498906956, 2.3132783154658276, 3.5395482359867585, 4.5538081728878055, 4.4732355460691027, 2.2829604048238843, 2.6809898937256795, 5.4843417791021025, 5.1876921054559917, 2.436995499467729, 3.4633397402124748, 3.1225726061066812, 3.6867725405854896, 1.6218452527631966, 4.8612343426934315, 4.2038025678335469, 2.0442089050366556, 2.6442101788991228, 5.3170707418820999, 1.8108028382460235, 4.0138581481670528, 5.4616033815171958, 5.1933034975322077, 5.2902359903238168, 2.5202230311542957, 3.9084744741935298, 4.8362983532406805, 3.0999901024033529, 3.7037574811264391, 5.2833721600594217, 5.3610357211028905, 2.6250907529342635, 5.4497205116181107, 4.6725229253821565, 2.3082395835400593, 1.9851487415559488, 4.4060337379771779, 2.7284585997431483, 5.6160640018496046, 2.6480055563405189, 1.4568934566156471]\n",
      "mean squared error 1.88734722233\n",
      "mean absolute error 0.949527796605\n"
     ]
    }
   ],
   "source": [
    "print truth\n",
    "print predicted\n",
    "\n",
    "mse = mean_squared_error(truth, predicted)\n",
    "print \"mean squared error\", mse\n",
    "\n",
    "mae = mean_absolute_error(truth, predicted)\n",
    "print \"mean absolute error\", mae"
   ]
  },
  {
   "cell_type": "code",
   "execution_count": 33,
   "metadata": {
    "collapsed": false
   },
   "outputs": [
    {
     "data": {
      "image/png": "[encoded data removed]",
      "text/plain": [
       "<matplotlib.figure.Figure at 0x10bfd2090>"
      ]
     },
     "metadata": {},
     "output_type": "display_data"
    }
   ],
   "source": [
    "# plot actual vs predicted murder rate\n",
    "plt.scatter(truth, predicted, alpha=0.5)\n",
    "plt.xlabel(\"actual murder rate\")\n",
    "plt.ylabel(\"predicted murder rate\")\n",
    "plt.title(\"Actual vs Predicted Murder Rate\")\n",
    "plt.plot(truth, truth, color=\"red\")\n",
    "plt.show()"
   ]
  },
  {
   "cell_type": "code",
   "execution_count": 34,
   "metadata": {
    "collapsed": false
   },
   "outputs": [
    {
     "data": {
      "image/png": "[encoded data removed]",
      "text/plain": [
       "<matplotlib.figure.Figure at 0x10c93b210>"
      ]
     },
     "metadata": {},
     "output_type": "display_data"
    }
   ],
   "source": [
    "# plot residuals\n",
    "plt.plot(range(1,51), res)\n",
    "plt.title(\"Residuals\")\n",
    "plt.xlabel(\"arbitrary index\")\n",
    "plt.ylabel(\"residual\")\n",
    "plt.show()"
   ]
  },
  {
   "cell_type": "markdown",
   "metadata": {
    "collapsed": true
   },
   "source": [
    "<h4>K-Fold</h4>"
   ]
  },
  {
   "cell_type": "code",
   "execution_count": 35,
   "metadata": {
    "collapsed": false
   },
   "outputs": [],
   "source": [
    "# run k-fold cross-validation using test model\n",
    "predicted = predict_kfold([\"no_high_school\"], df, model)            \n",
    "\n",
    "# compute residuals\n",
    "res = residuals(truth, predicted)"
   ]
  },
  {
   "cell_type": "code",
   "execution_count": 36,
   "metadata": {
    "collapsed": false
   },
   "outputs": [
    {
     "name": "stdout",
     "output_type": "stream",
     "text": [
      "mean squared error 1.93131328262\n",
      "mean absolute error 0.949527796605\n"
     ]
    }
   ],
   "source": [
    "mse = mean_squared_error(truth, predicted)\n",
    "print \"mean squared error\", mse\n",
    "\n",
    "mae = mean_squared_error(truth, predicted)\n",
    "print \"mean absolute error\", mae"
   ]
  },
  {
   "cell_type": "code",
   "execution_count": 37,
   "metadata": {
    "collapsed": false
   },
   "outputs": [
    {
     "data": {
      "image/png": "[encoded data removed]",
      "text/plain": [
       "<matplotlib.figure.Figure at 0x10c88dd90>"
      ]
     },
     "metadata": {},
     "output_type": "display_data"
    }
   ],
   "source": [
    "# plot actual vs predicted murder rate\n",
    "plt.scatter(truth, predicted, alpha=0.5)\n",
    "plt.xlabel(\"actual murder rate\")\n",
    "plt.ylabel(\"predicted murder rate\")\n",
    "plt.title(\"Actual vs Predicted Murder Rate\")\n",
    "plt.plot(truth, truth, color=\"red\")\n",
    "plt.show()"
   ]
  },
  {
   "cell_type": "code",
   "execution_count": 25,
   "metadata": {
    "collapsed": false
   },
   "outputs": [
    {
     "data": {
      "image/png": "[encoded data removed]",
      "text/plain": [
       "<matplotlib.figure.Figure at 0x10bc12550>"
      ]
     },
     "metadata": {},
     "output_type": "display_data"
    }
   ],
   "source": [
    "# plot residuals\n",
    "plt.plot(range(1,51), res)\n",
    "plt.title(\"Residuals\")\n",
    "plt.xlabel(\"arbitrary index\")\n",
    "plt.ylabel(\"residual\")\n",
    "plt.show()"
   ]
  },
  {
   "cell_type": "markdown",
   "metadata": {
    "collapsed": true
   },
   "source": [
    "<h4>Multiple Features</h4>"
   ]
  },
  {
   "cell_type": "code",
   "execution_count": 26,
   "metadata": {
    "collapsed": false
   },
   "outputs": [],
   "source": [
    "# run k-fold cross-validation using test model\n",
    "predicted = predict_kfold([\"no_high_school\", \"poverty_rate\"], df, model)            \n",
    "\n",
    "# compute residuals\n",
    "res = residuals(truth, predicted)"
   ]
  },
  {
   "cell_type": "code",
   "execution_count": 27,
   "metadata": {
    "collapsed": false
   },
   "outputs": [
    {
     "name": "stdout",
     "output_type": "stream",
     "text": [
      "mean squared error 2.26911445823\n",
      "mean absolute error 1.08529196497\n"
     ]
    }
   ],
   "source": [
    "mse = mean_squared_error(truth, predicted)\n",
    "print \"mean squared error\", mse\n",
    "\n",
    "mae = mean_absolute_error(truth, predicted)\n",
    "print \"mean absolute error\", mae"
   ]
  },
  {
   "cell_type": "code",
   "execution_count": null,
   "metadata": {
    "collapsed": true
   },
   "outputs": [],
   "source": []
  },
  {
   "cell_type": "code",
   "execution_count": null,
   "metadata": {
    "collapsed": true
   },
   "outputs": [],
   "source": []
  }
 ],
 "metadata": {
  "kernelspec": {
   "display_name": "Python 2",
   "language": "python",
   "name": "python2"
  },
  "language_info": {
   "codemirror_mode": {
    "name": "ipython",
    "version": 2
   },
   "file_extension": ".py",
   "mimetype": "text/x-python",
   "name": "python",
   "nbconvert_exporter": "python",
   "pygments_lexer": "ipython2",
   "version": "2.7.10"
  }
 },
 "nbformat": 4,
 "nbformat_minor": 0
}
