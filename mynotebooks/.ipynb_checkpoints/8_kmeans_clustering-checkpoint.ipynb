{
 "cells": [
  {
   "cell_type": "markdown",
   "metadata": {},
   "source": [
    "# GA Data Science (DAT14)\n",
    "\n",
    "## K-Means Clustering\n"
   ]
  },
  {
   "cell_type": "markdown",
   "metadata": {},
   "source": [
    "### Create Random Data Set"
   ]
  },
  {
   "cell_type": "markdown",
   "metadata": {},
   "source": [
    "In the last few weeks, we've studied classifiers - KNN, Naive Bayes, and Logistic Regression. These are algorithms that are trainined on a dataset and are then tasked with accurately \"classifying\" a new data point with the appropriate label. \n",
    "\n",
    "Kmeans is in a different class of algorithms, called clustering. It is an unsupervised approach meaning that it is not presented with labels. Instead it is presented with a dataset and it is tasked with finding the clusters inherent in the data.\n",
    "\n",
    "Assignment: generate a series of 80 data points in 2 dimensions (x,y) with the following properties:\n",
    "\n",
    "- there should be 4 clusters of points\n",
    "- each cluster should be formed by points whose coordinates come from a 2D gaussian\n",
    "- the 2D gaussians should have the following centers:\n",
    "- [1,1] , [1,3], [3,1], [3,3]\n",
    "- they should have variance of 0.1, and 0 covariance"
   ]
  },
  {
   "cell_type": "markdown",
   "metadata": {},
   "source": [
    "np.random.multivariate takes 3 parameters:\n",
    "- mean\n",
    "- covariance\n",
    "- number of samples"
   ]
  },
  {
   "cell_type": "code",
   "execution_count": 2,
   "metadata": {
    "collapsed": false
   },
   "outputs": [],
   "source": [
    "import numpy as np\n",
    "import matplotlib.pyplot as plt\n",
    "%matplotlib inline"
   ]
  },
  {
   "cell_type": "markdown",
   "metadata": {},
   "source": [
    "In the Code below, np.random.multivariate_normal samples from a gaussian distribution to generate a collection of points. Let's first get comfortable with sampling from a distrubtion. \n"
   ]
  },
  {
   "cell_type": "code",
   "execution_count": 3,
   "metadata": {
    "collapsed": false
   },
   "outputs": [
    {
     "name": "stdout",
     "output_type": "stream",
     "text": [
      "[[ 1.05239307  1.49085502]\n",
      " [ 1.12416946  1.07158722]\n",
      " [ 0.85445769  0.56410534]\n",
      " [ 1.04730957  0.8650073 ]\n",
      " [ 1.2997803   1.01101769]\n",
      " [ 1.23020477  1.42027407]\n",
      " [ 1.63522674  1.25196891]\n",
      " [ 0.63561794  0.62494428]\n",
      " [ 0.67374895  0.69285844]\n",
      " [ 1.26768063  0.66079527]\n",
      " [ 1.33642406  1.15500179]\n",
      " [ 1.26975596  1.37573916]\n",
      " [ 0.98285169  1.49398884]\n",
      " [ 1.01152086  0.96386644]\n",
      " [ 0.82789455  1.10875241]\n",
      " [ 1.10900875  1.05966388]\n",
      " [ 1.00301269  1.07443974]\n",
      " [ 1.51718465  1.24668792]\n",
      " [ 0.9005754   1.28278678]\n",
      " [ 1.30399845  1.31540978]]\n"
     ]
    }
   ],
   "source": [
    "sample = np.random.multivariate_normal([1,1],[[.1,0],[0,.1]],20)\n",
    "\n",
    "print sample"
   ]
  },
  {
   "cell_type": "code",
   "execution_count": 4,
   "metadata": {
    "collapsed": false
   },
   "outputs": [
    {
     "data": {
      "image/png": "[encoded data removed]",
      "text/plain": [
       "<matplotlib.figure.Figure at 0x107d5a390>"
      ]
     },
     "metadata": {},
     "output_type": "display_data"
    }
   ],
   "source": [
    "plt.scatter(sample[:,0], sample[:,1])\n",
    "plt.title('4 clusters ?')\n",
    "plt.show()"
   ]
  },
  {
   "cell_type": "markdown",
   "metadata": {},
   "source": [
    "Now let's create our clusters .... "
   ]
  },
  {
   "cell_type": "code",
   "execution_count": 5,
   "metadata": {
    "collapsed": false
   },
   "outputs": [],
   "source": [
    "data = np.vstack([np.random.multivariate_normal([1,1],[[.1,0],[0,.1]],20),\n",
    "                 np.random.multivariate_normal([1,3],[[.1,0],[0,.1]],20),\n",
    "                 np.random.multivariate_normal([3,1],[[.1,0],[0,.1]],20),\n",
    "                 np.random.multivariate_normal([3,3],[[.1,0],[0,.1]],20)])"
   ]
  },
  {
   "cell_type": "code",
   "execution_count": 6,
   "metadata": {
    "collapsed": false
   },
   "outputs": [
    {
     "data": {
      "text/plain": [
       "array([[ 0.661209  ,  0.98160161],\n",
       "       [ 0.41589532,  0.86460875],\n",
       "       [ 1.75095183,  0.69713166],\n",
       "       [ 1.21175242,  0.54977264],\n",
       "       [ 0.97782144,  1.25333015],\n",
       "       [ 1.16972848,  0.22774632],\n",
       "       [ 0.7681347 ,  0.48614697],\n",
       "       [ 0.8990188 ,  0.65931209],\n",
       "       [ 0.91423541,  1.27872872],\n",
       "       [ 0.75724762,  1.00531989]])"
      ]
     },
     "execution_count": 6,
     "metadata": {},
     "output_type": "execute_result"
    }
   ],
   "source": [
    "data[:10,:]"
   ]
  },
  {
   "cell_type": "markdown",
   "metadata": {},
   "source": [
    "Plot the points"
   ]
  },
  {
   "cell_type": "code",
   "execution_count": 7,
   "metadata": {
    "collapsed": false
   },
   "outputs": [
    {
     "data": {
      "image/png": "[encoded data removed]",
      "text/plain": [
       "<matplotlib.figure.Figure at 0x107e4d150>"
      ]
     },
     "metadata": {},
     "output_type": "display_data"
    }
   ],
   "source": [
    "plt.scatter(data[:,0], data[:,1])\n",
    "plt.title('4 clusters ?')\n",
    "plt.show()"
   ]
  },
  {
   "cell_type": "markdown",
   "metadata": {},
   "source": [
    "###Load the KMeans Class from sklearn.cluster"
   ]
  },
  {
   "cell_type": "code",
   "execution_count": 8,
   "metadata": {
    "collapsed": false
   },
   "outputs": [],
   "source": [
    "from sklearn.cluster import KMeans"
   ]
  },
  {
   "cell_type": "markdown",
   "metadata": {},
   "source": [
    "Initialize a KMeans classifier with 4 cluster, random initialization, random_state=1, 1 initial centroid seed and maximum number of iterations equal to 1"
   ]
  },
  {
   "cell_type": "code",
   "execution_count": 9,
   "metadata": {
    "collapsed": false
   },
   "outputs": [],
   "source": [
    "km = KMeans(n_clusters=4, init='random', n_init=1 , max_iter = 1, random_state=1)"
   ]
  },
  {
   "cell_type": "markdown",
   "metadata": {},
   "source": [
    "Train the classifier on all the data"
   ]
  },
  {
   "cell_type": "code",
   "execution_count": 10,
   "metadata": {
    "collapsed": false
   },
   "outputs": [
    {
     "data": {
      "text/plain": [
       "KMeans(copy_x=True, init='random', max_iter=1, n_clusters=4, n_init=1,\n",
       "    n_jobs=1, precompute_distances=True, random_state=1, tol=0.0001,\n",
       "    verbose=0)"
      ]
     },
     "execution_count": 10,
     "metadata": {},
     "output_type": "execute_result"
    }
   ],
   "source": [
    "km.fit(data)"
   ]
  },
  {
   "cell_type": "markdown",
   "metadata": {},
   "source": [
    "Extract the coordinates of the cluster centers"
   ]
  },
  {
   "cell_type": "code",
   "execution_count": 11,
   "metadata": {
    "collapsed": false
   },
   "outputs": [
    {
     "data": {
      "text/plain": [
       "array([[ 3.01472378,  1.81964923],\n",
       "       [ 1.04159327,  3.22205503],\n",
       "       [ 0.98652061,  1.27779629],\n",
       "       [ 3.3537991 ,  3.06938565]])"
      ]
     },
     "execution_count": 11,
     "metadata": {},
     "output_type": "execute_result"
    }
   ],
   "source": [
    "centroids = km.cluster_centers_\n",
    "centroids"
   ]
  },
  {
   "cell_type": "markdown",
   "metadata": {},
   "source": [
    "Predict the clusters for each data point"
   ]
  },
  {
   "cell_type": "code",
   "execution_count": 12,
   "metadata": {
    "collapsed": false
   },
   "outputs": [
    {
     "name": "stdout",
     "output_type": "stream",
     "text": [
      "[2 2 2 2 2 2 2 2 2 2 2 2 2 2 2 2 2 2 2 2 1 1 1 1 1 1 1 1 1 1 1 1 1 1 1 1 1\n",
      " 1 1 1 0 0 0 0 0 0 0 0 0 0 0 0 0 0 0 0 0 0 0 0 3 3 0 3 3 3 3 3 3 3 3 3 0 3\n",
      " 3 3 0 3 3 0]\n"
     ]
    }
   ],
   "source": [
    "y = km.predict(data)\n",
    "print y"
   ]
  },
  {
   "cell_type": "markdown",
   "metadata": {},
   "source": [
    "Plot the points with a different color for each cluster. Plot also the centroids in Red"
   ]
  },
  {
   "cell_type": "code",
   "execution_count": 13,
   "metadata": {
    "collapsed": false
   },
   "outputs": [
    {
     "data": {
      "text/plain": [
       "<matplotlib.collections.PathCollection at 0x10a6c4fd0>"
      ]
     },
     "execution_count": 13,
     "metadata": {},
     "output_type": "execute_result"
    },
    {
     "data": {
      "image/png": "[encoded data removed]",
      "text/plain": [
       "<matplotlib.figure.Figure at 0x10a640dd0>"
      ]
     },
     "metadata": {},
     "output_type": "display_data"
    }
   ],
   "source": [
    "fig, ax = plt.subplots(1,1, figsize=(8,8))\n",
    "for t,marker,c in zip(xrange(4),\">ox+\",\"rgby\") :\n",
    "    ax.scatter(data[y == t,0],\n",
    "                data[y == t,1],\n",
    "                marker=marker,\n",
    "                c=c)\n",
    "\n",
    "ax.scatter(centroids[:,0],centroids[:,1],marker = 's',c='r')"
   ]
  },
  {
   "cell_type": "markdown",
   "metadata": {},
   "source": [
    "#### Discussion: what do you see?"
   ]
  },
  {
   "cell_type": "markdown",
   "metadata": {},
   "source": [
    "Let's try with better parameters. Initialize a KMeans classifier with 4 clusters, improved initialization, 10 initial centroid seeds and maximum number of iterations equal to 300."
   ]
  },
  {
   "cell_type": "code",
   "execution_count": 14,
   "metadata": {
    "collapsed": false
   },
   "outputs": [],
   "source": [
    "km = KMeans(n_clusters=4, init='k-means++', n_init=10 , max_iter = 300, random_state=1)"
   ]
  },
  {
   "cell_type": "markdown",
   "metadata": {},
   "source": [
    "Condense the steps above in a handy function that receives the data and the classifier as input parameters and returns the figure. Make sure you are aware of the number of clusters"
   ]
  },
  {
   "cell_type": "code",
   "execution_count": 15,
   "metadata": {
    "collapsed": false
   },
   "outputs": [],
   "source": [
    "def do_kmeans_4(km, data):\n",
    "    km.fit(data)\n",
    "    centroids = km.cluster_centers_\n",
    "    print \"centroids:\", centroids\n",
    "    y = km.predict(data)\n",
    "    \n",
    "    \n",
    "    fig, ax = plt.subplots(1,1, figsize=(8,8))\n",
    "    for t,marker,c in zip(xrange(4),\">ox+\",\"rgby\") :\n",
    "        ax.scatter(data[y == t,0],\n",
    "                   data[y == t,1],\n",
    "                   marker=marker,\n",
    "                   c=c)\n",
    "\n",
    "    ax.scatter(centroids[:,0],centroids[:,1],marker = 's',c='r')"
   ]
  },
  {
   "cell_type": "code",
   "execution_count": 16,
   "metadata": {
    "collapsed": false
   },
   "outputs": [
    {
     "name": "stdout",
     "output_type": "stream",
     "text": [
      "centroids: [[ 1.04837762  3.00755637]\n",
      " [ 2.97602659  2.86025468]\n",
      " [ 0.96046083  0.81180438]\n",
      " [ 3.12123604  1.02899106]]\n"
     ]
    },
    {
     "data": {
      "image/png": "[encoded data removed]",
      "text/plain": [
       "<matplotlib.figure.Figure at 0x10a59aad0>"
      ]
     },
     "metadata": {},
     "output_type": "display_data"
    }
   ],
   "source": [
    "do_kmeans_4(km, data)"
   ]
  },
  {
   "cell_type": "markdown",
   "metadata": {},
   "source": [
    "### Blurred boundaries"
   ]
  },
  {
   "cell_type": "markdown",
   "metadata": {},
   "source": [
    "Generate new datapoints that have a bigger variance of 0.5, around the same centroids"
   ]
  },
  {
   "cell_type": "code",
   "execution_count": 17,
   "metadata": {
    "collapsed": false
   },
   "outputs": [
    {
     "data": {
      "text/plain": [
       "<matplotlib.collections.PathCollection at 0x10abbd290>"
      ]
     },
     "execution_count": 17,
     "metadata": {},
     "output_type": "execute_result"
    },
    {
     "data": {
      "image/png": "[encoded data removed]",
      "text/plain": [
       "<matplotlib.figure.Figure at 0x10886fcd0>"
      ]
     },
     "metadata": {},
     "output_type": "display_data"
    }
   ],
   "source": [
    "data1 = np.vstack([np.random.multivariate_normal([1,1],[[.5,0],[0,.5]],20),\n",
    "                 np.random.multivariate_normal([1,3],[[.5,0],[0,.5]],20),\n",
    "                 np.random.multivariate_normal([3,1],[[.5,0],[0,.5]],20),\n",
    "                 np.random.multivariate_normal([3,3],[[.5,0],[0,.5]],20)])\n",
    "plt.scatter(data1[:,0], data1[:,1])"
   ]
  },
  {
   "cell_type": "markdown",
   "metadata": {},
   "source": [
    "Initialize a new kmeans classifier"
   ]
  },
  {
   "cell_type": "code",
   "execution_count": 18,
   "metadata": {
    "collapsed": false
   },
   "outputs": [],
   "source": [
    "km = KMeans(n_clusters=4, random_state=1)"
   ]
  },
  {
   "cell_type": "markdown",
   "metadata": {},
   "source": [
    "Use the previously defined function to fit and plot the new data"
   ]
  },
  {
   "cell_type": "code",
   "execution_count": 19,
   "metadata": {
    "collapsed": false
   },
   "outputs": [
    {
     "name": "stdout",
     "output_type": "stream",
     "text": [
      "centroids: [[ 0.94606494  3.15632585]\n",
      " [ 3.30254618  0.81483425]\n",
      " [ 3.41136372  3.40910192]\n",
      " [ 1.29723986  1.08562816]]\n"
     ]
    },
    {
     "data": {
      "image/png": "[encoded data removed]",
      "text/plain": [
       "<matplotlib.figure.Figure at 0x10a6d1d90>"
      ]
     },
     "metadata": {},
     "output_type": "display_data"
    }
   ],
   "source": [
    "do_kmeans_4(km, data1)"
   ]
  },
  {
   "cell_type": "markdown",
   "metadata": {},
   "source": [
    "Repeat the above with 150 points per cluster"
   ]
  },
  {
   "cell_type": "code",
   "execution_count": 20,
   "metadata": {
    "collapsed": false
   },
   "outputs": [
    {
     "data": {
      "text/plain": [
       "<matplotlib.collections.PathCollection at 0x10acd2550>"
      ]
     },
     "execution_count": 20,
     "metadata": {},
     "output_type": "execute_result"
    },
    {
     "data": {
      "image/png": "[encoded data removed]",
      "text/plain": [
       "<matplotlib.figure.Figure at 0x10aa59d90>"
      ]
     },
     "metadata": {},
     "output_type": "display_data"
    }
   ],
   "source": [
    "data1 = np.vstack([np.random.multivariate_normal([1,1],[[.5,0],[0,.5]],150),\n",
    "                 np.random.multivariate_normal([1,3],[[.5,0],[0,.5]],150),\n",
    "                 np.random.multivariate_normal([3,1],[[.5,0],[0,.5]],150),\n",
    "                 np.random.multivariate_normal([3,3],[[.5,0],[0,.5]],150)])\n",
    "plt.scatter(data1[:,0], data1[:,1])"
   ]
  },
  {
   "cell_type": "code",
   "execution_count": 21,
   "metadata": {
    "collapsed": false
   },
   "outputs": [
    {
     "name": "stdout",
     "output_type": "stream",
     "text": [
      "centroids: [[ 0.96582583  1.02223338]\n",
      " [ 2.99578079  3.00708245]\n",
      " [ 0.87208205  3.12214219]\n",
      " [ 3.01027648  0.98097018]]\n"
     ]
    },
    {
     "data": {
      "image/png": "[encoded data removed]",
      "text/plain": [
       "<matplotlib.figure.Figure at 0x10acf5b10>"
      ]
     },
     "metadata": {},
     "output_type": "display_data"
    }
   ],
   "source": [
    "do_kmeans_4(km, data1)"
   ]
  },
  {
   "cell_type": "markdown",
   "metadata": {},
   "source": [
    "#### Discussion: what do you see?"
   ]
  },
  {
   "cell_type": "markdown",
   "metadata": {},
   "source": [
    "## Let's find clusters in the Iris Dataset"
   ]
  },
  {
   "cell_type": "markdown",
   "metadata": {},
   "source": [
    "Import the data from the iris dataset in sklearn, generate X and y arrays"
   ]
  },
  {
   "cell_type": "code",
   "execution_count": 22,
   "metadata": {
    "collapsed": false
   },
   "outputs": [],
   "source": [
    "from sklearn import datasets\n",
    "\n",
    "iris = datasets.load_iris()\n",
    "\n",
    "X = iris['data']\n",
    "Names = iris['feature_names']\n",
    "target_names = iris['target_names']\n",
    "y = iris['target']"
   ]
  },
  {
   "cell_type": "markdown",
   "metadata": {},
   "source": [
    "Display the features names"
   ]
  },
  {
   "cell_type": "code",
   "execution_count": 23,
   "metadata": {
    "collapsed": false,
    "scrolled": true
   },
   "outputs": [
    {
     "data": {
      "text/plain": [
       "['sepal length (cm)',\n",
       " 'sepal width (cm)',\n",
       " 'petal length (cm)',\n",
       " 'petal width (cm)']"
      ]
     },
     "execution_count": 23,
     "metadata": {},
     "output_type": "execute_result"
    }
   ],
   "source": [
    "Names"
   ]
  },
  {
   "cell_type": "markdown",
   "metadata": {},
   "source": [
    "Plot the Sepal width versus Petal Width with colors according to species"
   ]
  },
  {
   "cell_type": "code",
   "execution_count": 24,
   "metadata": {
    "collapsed": false
   },
   "outputs": [
    {
     "data": {
      "image/png": "[encoded data removed]",
      "text/plain": [
       "<matplotlib.figure.Figure at 0x107ec4cd0>"
      ]
     },
     "metadata": {},
     "output_type": "display_data"
    }
   ],
   "source": [
    "fig, ax = plt.subplots(1,1, figsize=(8,8))\n",
    "for t,marker,c,n in zip(xrange(3),\">ox\",\"rgb\",target_names):\n",
    "    ax.scatter(X[y == t,1],\n",
    "               X[y == t,3],\n",
    "               marker=marker,\n",
    "               c=c,\n",
    "               label=n)\n",
    "\n",
    "plt.xlabel('Sepal width (cm)')\n",
    "plt.ylabel('Petal width (cm)')\n",
    "plt.title('Sepal width (cm) VS Petal width (cm)')\n",
    "plt.legend(loc='best')\n",
    "plt.show()"
   ]
  },
  {
   "cell_type": "markdown",
   "metadata": {},
   "source": [
    "### Exercise 1: Implement Kmeans on Iris Data Set\n",
    "Even though the Iris Data Set has labels, the Kmeans algorithms will not take these labels as input. So we'll see how well it does at figuring out these labels on its own\n",
    "\n",
    "### Using 3 clusters, fit and and predict using Kmeans"
   ]
  },
  {
   "cell_type": "code",
   "execution_count": 25,
   "metadata": {
    "collapsed": false
   },
   "outputs": [],
   "source": [
    "km = KMeans(n_clusters=3, init='random', n_init=1 , max_iter = 1, random_state=1)"
   ]
  },
  {
   "cell_type": "code",
   "execution_count": 26,
   "metadata": {
    "collapsed": false
   },
   "outputs": [
    {
     "name": "stdout",
     "output_type": "stream",
     "text": [
      "[[ 5.01632653  3.44081633  1.46734694  0.24285714]\n",
      " [ 5.25        2.45        3.52142857  1.11428571]\n",
      " [ 6.4045977   2.93333333  5.08735632  1.75057471]]\n",
      "[0 0 0 0 0 0 0 0 0 0 0 0 0 0 0 0 0 0 0 0 0 0 0 0 0 0 0 0 0 0 0 0 0 0 0 0 0\n",
      " 0 0 0 0 0 0 0 0 0 0 0 0 0 2 2 2 1 2 2 2 1 2 1 1 2 1 2 1 2 2 1 2 1 2 1 2 2\n",
      " 2 2 2 2 2 1 1 1 1 2 2 2 2 2 1 1 1 2 1 1 1 1 1 2 1 1 2 2 2 2 2 2 1 2 2 2 2\n",
      " 2 2 2 2 2 2 2 2 2 2 2 2 2 2 2 2 2 2 2 2 2 2 2 2 2 2 2 2 2 2 2 2 2 2 2 2 2\n",
      " 2 2]\n"
     ]
    }
   ],
   "source": [
    "km.fit(X)\n",
    "# centroids = km.cluster_centers_\n",
    "# print \"centroids:\", centroids\n",
    "# y = km.predict(data)\n",
    "print km.cluster_centers_\n",
    "labels = km.predict(X)\n",
    "print labels"
   ]
  },
  {
   "cell_type": "markdown",
   "metadata": {},
   "source": [
    "### Exercise 2: Plot Results\n",
    "#### Here's code for plotting the true clusters as the first of two subplots.  "
   ]
  },
  {
   "cell_type": "code",
   "execution_count": 27,
   "metadata": {
    "collapsed": false
   },
   "outputs": [
    {
     "data": {
      "text/plain": [
       "<matplotlib.legend.Legend at 0x10ac0dbd0>"
      ]
     },
     "execution_count": 27,
     "metadata": {},
     "output_type": "execute_result"
    },
    {
     "data": {
      "image/png": "[encoded data removed]",
      "text/plain": [
       "<matplotlib.figure.Figure at 0x10ac0d250>"
      ]
     },
     "metadata": {},
     "output_type": "display_data"
    }
   ],
   "source": [
    "fig, (ax1, ax2) = plt.subplots( 1,2, figsize=(10,6), sharex=True, sharey=True)\n",
    "\n",
    "## first the true clusters\n",
    "for t,marker,c,n in zip(xrange(3),\">ox\",\"rgb\",target_names):\n",
    "    ax1.scatter(X[y == t,1],\n",
    "               X[y == t,3],\n",
    "               marker=marker,\n",
    "               c=c,\n",
    "               label=n)\n",
    "\n",
    "ax1.set_xlabel('Sepal width (cm)')\n",
    "ax1.set_ylabel('Petal width (cm)')\n",
    "ax1.set_title('Sepal width (cm) VS Petal width (cm)')\n",
    "ax1.legend(loc='best')"
   ]
  },
  {
   "cell_type": "markdown",
   "metadata": {},
   "source": [
    "#### Add code to plot the results from the Kmeans as second subplot \n",
    "#### (Hint: Code is very similar to first plot, use ax2 as name of second plot)"
   ]
  },
  {
   "cell_type": "code",
   "execution_count": 28,
   "metadata": {
    "collapsed": false
   },
   "outputs": [],
   "source": [
    "# arbitrary labels used here (picked by KMeans)\n",
    "for t,marker,c,n in zip(xrange(3),\">ox\",\"rgb\",labels):\n",
    "    ax2.scatter(X[labels == t,1],\n",
    "               X[labels == t,3],\n",
    "               marker=marker,\n",
    "               c=c,\n",
    "               label=n)"
   ]
  },
  {
   "cell_type": "markdown",
   "metadata": {},
   "source": [
    "#### After adding code for subplot run the code below to view the results.\n",
    "#### How well does Kmeans perform?\n",
    "#### What are the pros and cons of unsupervised learning?"
   ]
  },
  {
   "cell_type": "code",
   "execution_count": 29,
   "metadata": {
    "collapsed": false
   },
   "outputs": [],
   "source": [
    "plt.show()"
   ]
  },
  {
   "cell_type": "markdown",
   "metadata": {},
   "source": [
    "### Exercise 3: Silhouette Scores"
   ]
  },
  {
   "cell_type": "markdown",
   "metadata": {},
   "source": [
    "### Silhouette score"
   ]
  },
  {
   "cell_type": "code",
   "execution_count": 30,
   "metadata": {
    "collapsed": false
   },
   "outputs": [
    {
     "data": {
      "text/plain": [
       "0.5525919445213674"
      ]
     },
     "execution_count": 30,
     "metadata": {},
     "output_type": "execute_result"
    }
   ],
   "source": [
    "from sklearn import metrics\n",
    "from sklearn.metrics import pairwise_distances\n",
    "\n",
    "km = KMeans(n_clusters=3, random_state=1)\n",
    "km.fit(X)\n",
    "labels = km.labels_\n",
    "metrics.silhouette_score(X, labels, metric='euclidean')"
   ]
  },
  {
   "cell_type": "markdown",
   "metadata": {},
   "source": [
    "### calculate the Silhouette score for the values of k between 2-10"
   ]
  },
  {
   "cell_type": "code",
   "execution_count": 31,
   "metadata": {
    "collapsed": false
   },
   "outputs": [
    {
     "name": "stdout",
     "output_type": "stream",
     "text": [
      "[0.68081362027135073, 0.5525919445213674, 0.49722797262967994, 0.48851755085386289, 0.37121805025641591, 0.35367730462571739, 0.35058888550301764, 0.33296716184649727]\n"
     ]
    }
   ],
   "source": [
    "# use a for loop to generate values of k, fit and label data, append the scores to a list, and print the scores\n",
    "scores = []\n",
    "for k in range(2, 10, 1):\n",
    "    km = KMeans(n_clusters=k, random_state=1)\n",
    "    km.fit(X)\n",
    "    labels = km.labels_\n",
    "    scores.append(metrics.silhouette_score(X, labels, metric='euclidean'))\n",
    "print scores"
   ]
  },
  {
   "cell_type": "markdown",
   "metadata": {
    "collapsed": false
   },
   "source": [
    "### Exercise 4: Create your own Sum of Squared Errors function"
   ]
  },
  {
   "cell_type": "code",
   "execution_count": 53,
   "metadata": {
    "collapsed": false
   },
   "outputs": [
    {
     "name": "stdout",
     "output_type": "stream",
     "text": [
      "0 39.8209677419\n",
      "1 15.2404\n",
      "2 23.8794736842\n"
     ]
    }
   ],
   "source": [
    "import math\n",
    "\n",
    "# reseting the labels to 3 clusters \n",
    "km = KMeans(n_clusters=3, random_state=1)\n",
    "km.fit(X)\n",
    "labels = km.labels_\n",
    "\n",
    "# start by calculating the mean for each cluster\n",
    "# you can check your answer with \n",
    "km.cluster_centers_\n",
    "\n",
    "# for each cluster substract the mean from each data point to get the error\n",
    "# then get the magnitude of each error, square it, and sum it\n",
    "#for clus in km.cluster_centers_:\n",
    "#    print clus\n",
    "    \n",
    "# split data in labeled sets\n",
    "\n",
    "n_features = len(X[0])\n",
    "\n",
    "#print n_features\n",
    "\n",
    "def dist(point1, point2):\n",
    "    d = 0\n",
    "    for i in range(len(point1)):\n",
    "        d += (point1[i] - point2[i]) ** 2\n",
    "    #print d\n",
    "    return math.sqrt(d)\n",
    "\n",
    "# loop over the labels from clustering\n",
    "for t in range(3):\n",
    "    \n",
    "    # get data that has this label\n",
    "    split = X[labels == t]\n",
    "    \n",
    "    # make map for total value of each dimension\n",
    "    totals = {}\n",
    "    for n in range(n_features):\n",
    "        totals[n] = 0\n",
    "        \n",
    "    # iterate over data\n",
    "    for s in split:\n",
    "        # iterate over features\n",
    "        for i in range(n_features):\n",
    "            # increment total for mean calculation\n",
    "            totals[i] += s[i]\n",
    "            \n",
    "    # compute mean of each feature\n",
    "    for n in range(n_features):\n",
    "        totals[n] = totals[n] / len(split)\n",
    "        \n",
    "    # compute total errors by comparing of distance of each point from the mean\n",
    "    total_error = 0\n",
    "    for s in split:\n",
    "        total_error += dist(s, totals.values()) ** 2\n",
    "    \n",
    "    # print total error for this class\n",
    "    print t, total_error"
   ]
  },
  {
   "cell_type": "code",
   "execution_count": 36,
   "metadata": {
    "collapsed": true
   },
   "outputs": [],
   "source": [
    "# similar to the loop before\n",
    "# generate values of k, fit and label data, append Sum of Squared Errors scores to a list, and print the scores\n",
    "\n",
    "\n",
    "\n",
    "\n",
    "\n"
   ]
  },
  {
   "cell_type": "markdown",
   "metadata": {},
   "source": [
    "### Exercise 5: Plot the SSE score next to the Silhouette scores"
   ]
  },
  {
   "cell_type": "code",
   "execution_count": 34,
   "metadata": {
    "collapsed": false
   },
   "outputs": [
    {
     "ename": "NameError",
     "evalue": "name 'k_clusters' is not defined",
     "output_type": "error",
     "traceback": [
      "\u001b[0;31m---------------------------------------------------------------------------\u001b[0m",
      "\u001b[0;31mNameError\u001b[0m                                 Traceback (most recent call last)",
      "\u001b[0;32m<ipython-input-34-41e5396cd8ac>\u001b[0m in \u001b[0;36m<module>\u001b[0;34m()\u001b[0m\n\u001b[1;32m      1\u001b[0m \u001b[0mfig\u001b[0m\u001b[0;34m,\u001b[0m \u001b[0;34m(\u001b[0m\u001b[0max1\u001b[0m\u001b[0;34m,\u001b[0m \u001b[0max2\u001b[0m\u001b[0;34m)\u001b[0m \u001b[0;34m=\u001b[0m \u001b[0mplt\u001b[0m\u001b[0;34m.\u001b[0m\u001b[0msubplots\u001b[0m\u001b[0;34m(\u001b[0m\u001b[0;36m1\u001b[0m\u001b[0;34m,\u001b[0m\u001b[0;36m2\u001b[0m\u001b[0;34m,\u001b[0m \u001b[0mfigsize\u001b[0m\u001b[0;34m=\u001b[0m\u001b[0;34m(\u001b[0m\u001b[0;36m15\u001b[0m\u001b[0;34m,\u001b[0m\u001b[0;36m5\u001b[0m\u001b[0;34m)\u001b[0m\u001b[0;34m,\u001b[0m \u001b[0msharex\u001b[0m\u001b[0;34m=\u001b[0m\u001b[0mTrue\u001b[0m\u001b[0;34m,\u001b[0m \u001b[0msharey\u001b[0m\u001b[0;34m=\u001b[0m\u001b[0mTrue\u001b[0m\u001b[0;34m)\u001b[0m\u001b[0;34m\u001b[0m\u001b[0m\n\u001b[1;32m      2\u001b[0m \u001b[0;34m\u001b[0m\u001b[0m\n\u001b[0;32m----> 3\u001b[0;31m \u001b[0max1\u001b[0m\u001b[0;34m.\u001b[0m\u001b[0mplot\u001b[0m\u001b[0;34m(\u001b[0m\u001b[0mk_clusters\u001b[0m\u001b[0;34m,\u001b[0m \u001b[0mscores\u001b[0m\u001b[0;34m)\u001b[0m\u001b[0;34m\u001b[0m\u001b[0m\n\u001b[0m\u001b[1;32m      4\u001b[0m \u001b[0max1\u001b[0m\u001b[0;34m.\u001b[0m\u001b[0mset_xlabel\u001b[0m\u001b[0;34m(\u001b[0m\u001b[0;34m'number of clusters'\u001b[0m\u001b[0;34m)\u001b[0m\u001b[0;34m\u001b[0m\u001b[0m\n\u001b[1;32m      5\u001b[0m \u001b[0max1\u001b[0m\u001b[0;34m.\u001b[0m\u001b[0mset_ylabel\u001b[0m\u001b[0;34m(\u001b[0m\u001b[0;34m'silhouette coefficient'\u001b[0m\u001b[0;34m)\u001b[0m\u001b[0;34m\u001b[0m\u001b[0m\n",
      "\u001b[0;31mNameError\u001b[0m: name 'k_clusters' is not defined"
     ]
    },
    {
     "data": {
      "image/png": "[encoded data removed]",
      "text/plain": [
       "<matplotlib.figure.Figure at 0x10ba71a50>"
      ]
     },
     "metadata": {},
     "output_type": "display_data"
    }
   ],
   "source": [
    "fig, (ax1, ax2) = plt.subplots(1,2, figsize=(15,5), sharex=True, sharey=True)\n",
    "\n",
    "ax1.plot(k_clusters, scores)\n",
    "ax1.set_xlabel('number of clusters')\n",
    "ax1.set_ylabel('silhouette coefficient')\n",
    "\n",
    "# plot here on ax2\n",
    "\n",
    "ax2.set_xlabel('number of clusters')\n",
    "ax2.set_ylabel('SSE');"
   ]
  }
 ],
 "metadata": {
  "kernelspec": {
   "display_name": "Python 2",
   "language": "python",
   "name": "python2"
  },
  "language_info": {
   "codemirror_mode": {
    "name": "ipython",
    "version": 2
   },
   "file_extension": ".py",
   "mimetype": "text/x-python",
   "name": "python",
   "nbconvert_exporter": "python",
   "pygments_lexer": "ipython2",
   "version": "2.7.9"
  }
 },
 "nbformat": 4,
 "nbformat_minor": 0
}
