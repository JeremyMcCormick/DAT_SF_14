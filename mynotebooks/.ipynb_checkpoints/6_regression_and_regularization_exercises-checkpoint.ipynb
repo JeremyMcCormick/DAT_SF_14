{
 "cells": [
  {
   "cell_type": "markdown",
   "metadata": {},
   "source": [
    "##Further Exercises\n"
   ]
  },
  {
   "cell_type": "markdown",
   "metadata": {},
   "source": [
    "A criminologist studying the relationship between income level and assults in U.S. cities (among other things) collected the following data for 2215 communities. The dataset can be found in the [UCI machine learning site](http://archive.ics.uci.edu/ml/datasets/Communities+and+Crime+Unnormalized).\n",
    "\n",
    "We are interested in the per capita assult rate and its relation to median income."
   ]
  },
  {
   "cell_type": "code",
   "execution_count": 1,
   "metadata": {
    "collapsed": false
   },
   "outputs": [],
   "source": [
    "import pandas as pd\n",
    "\n",
    "crime = pd.read_csv(\"http://archive.ics.uci.edu/ml/machine-learning-databases/00211/CommViolPredUnnormalizedData.txt\", \n",
    "                    header = None, na_values  = '?',\n",
    "                    names = ['communityname', 'state', 'countyCode', 'communityCode', 'fold', 'population', 'householdsize', \n",
    "                             'racepctblack', 'racePctWhite', 'racePctAsian', 'racePctHisp', 'agePct12t21', 'agePct12t29', \n",
    "                             'agePct16t24', 'agePct65up', 'numbUrban', 'pctUrban', 'medIncome', 'pctWWage', 'pctWFarmSelf', \n",
    "                             'pctWInvInc', 'pctWSocSec', 'pctWPubAsst', 'pctWRetire', 'medFamInc', 'perCapInc', 'whitePerCap', \n",
    "                             'blackPerCap', 'indianPerCap', 'AsianPerCap', 'OtherPerCap', 'HispPerCap', 'NumUnderPov', \n",
    "                             'PctPopUnderPov', 'PctLess9thGrade', 'PctNotHSGrad', 'PctBSorMore', 'PctUnemployed', 'PctEmploy', \n",
    "                             'PctEmplManu', 'PctEmplProfServ', 'PctOccupManu', 'PctOccupMgmtProf', 'MalePctDivorce', \n",
    "                             'MalePctNevMarr', 'FemalePctDiv', 'TotalPctDiv', 'PersPerFam', 'PctFam2Par', 'PctKids2Par', \n",
    "                             'PctYoungKids2Par', 'PctTeen2Par', 'PctWorkMomYoungKids', 'PctWorkMom', 'NumKidsBornNeverMar', \n",
    "                             'PctKidsBornNeverMar', 'NumImmig', 'PctImmigRecent', 'PctImmigRec5', 'PctImmigRec8', \n",
    "                             'PctImmigRec10', 'PctRecentImmig', 'PctRecImmig5', 'PctRecImmig8', 'PctRecImmig10', \n",
    "                             'PctSpeakEnglOnly', 'PctNotSpeakEnglWell', 'PctLargHouseFam', 'PctLargHouseOccup', \n",
    "                             'PersPerOccupHous', 'PersPerOwnOccHous', 'PersPerRentOccHous', 'PctPersOwnOccup', \n",
    "                             'PctPersDenseHous', 'PctHousLess3BR', 'MedNumBR', 'HousVacant', 'PctHousOccup', 'PctHousOwnOcc', \n",
    "                             'PctVacantBoarded', 'PctVacMore6Mos', 'MedYrHousBuilt', 'PctHousNoPhone', 'PctWOFullPlumb', \n",
    "                             'OwnOccLowQuart', 'OwnOccMedVal', 'OwnOccHiQuart', 'OwnOccQrange', 'RentLowQ', 'RentMedian', \n",
    "                             'RentHighQ', 'RentQrange', 'MedRent', 'MedRentPctHousInc', 'MedOwnCostPctInc', \n",
    "                             'MedOwnCostPctIncNoMtg', 'NumInShelters', 'NumStreet', 'PctForeignBorn', 'PctBornSameState', \n",
    "                             'PctSameHouse85', 'PctSameCity85', 'PctSameState85', 'LemasSwornFT', 'LemasSwFTPerPop', \n",
    "                             'LemasSwFTFieldOps', 'LemasSwFTFieldPerPop', 'LemasTotalReq', 'LemasTotReqPerPop', \n",
    "                             'PolicReqPerOffic', 'PolicPerPop', 'RacialMatchCommPol', 'PctPolicWhite', 'PctPolicBlack', \n",
    "                             'PctPolicHisp', 'PctPolicAsian', 'PctPolicMinor', 'OfficAssgnDrugUnits', 'NumKindsDrugsSeiz', \n",
    "                             'PolicAveOTWorked', 'LandArea', 'PopDens', 'PctUsePubTrans', 'PolicCars', 'PolicOperBudg', \n",
    "                             'LemasPctPolicOnPatr', 'LemasGangUnitDeploy', 'LemasPctOfficDrugUn', 'PolicBudgPerPop', \n",
    "                             'murders', 'murdPerPop', 'rapes', 'rapesPerPop', 'robberies', 'robbbPerPop', 'assaults', \n",
    "                             'assaultPerPop', 'burglaries', 'burglPerPop', 'larcenies', 'larcPerPop', 'autoTheft', \n",
    "                             'autoTheftPerPop', 'arsons', 'arsonsPerPop', 'ViolentCrimesPerPop', 'nonViolPerPop'])"
   ]
  },
  {
   "cell_type": "markdown",
   "metadata": {},
   "source": [
    "1. Fit a simple linear regression model to the data with `np.log(crime.assaults)` as the dependent variable and `np.log(crime.medIncome)` as the independent variable. Plot the estimated regression line.\n",
    "\n",
    "4. Test whether there is a linear relationship between `assaults` and `medIncome` at level $\\alpha=0.05$. State the null hypothesis, the alternative, the conclusion and the $p$-value.\n",
    "\n",
    "5. Give a 95% confidence interval for the slope of the regression line. Interpret your interval.\n",
    "\n",
    "6. Report the $R^2$ and the adjusted $R^2$ of the model, as well as an estimate of the variance of the errors in the model.\n",
    "\n",
    "7. Go to [archive.ics.uci.edu/ml/datasets/Communities+and+Crime+Unnormalized](http://archive.ics.uci.edu/ml/datasets/Communities+and+Crime+Unnormalized) and pick out a few other factors that might help you predict `assults`."
   ]
  },
  {
   "cell_type": "markdown",
   "metadata": {
    "collapsed": false
   },
   "source": [
    "1. Fit a simple linear regression model to the data with `np.log(crime.assaults)` as the dependent variable and `np.log(crime.medIncome)` as the independent variable. Plot the estimated regression line."
   ]
  },
  {
   "cell_type": "code",
   "execution_count": 4,
   "metadata": {
    "collapsed": false
   },
   "outputs": [
    {
     "data": {
      "text/html": [
       "<table class=\"simpletable\">\n",
       "<caption>OLS Regression Results</caption>\n",
       "<tr>\n",
       "  <th>Dep. Variable:</th>      <td>assaults_log</td>   <th>  R-squared:         </th> <td>   0.146</td>\n",
       "</tr>\n",
       "<tr>\n",
       "  <th>Model:</th>                   <td>OLS</td>       <th>  Adj. R-squared:    </th> <td>   0.145</td>\n",
       "</tr>\n",
       "<tr>\n",
       "  <th>Method:</th>             <td>Least Squares</td>  <th>  F-statistic:       </th> <td>   371.8</td>\n",
       "</tr>\n",
       "<tr>\n",
       "  <th>Date:</th>             <td>Thu, 21 May 2015</td> <th>  Prob (F-statistic):</th> <td>1.24e-76</td>\n",
       "</tr>\n",
       "<tr>\n",
       "  <th>Time:</th>                 <td>22:52:10</td>     <th>  Log-Likelihood:    </th> <td> -4047.3</td>\n",
       "</tr>\n",
       "<tr>\n",
       "  <th>No. Observations:</th>      <td>  2184</td>      <th>  AIC:               </th> <td>   8099.</td>\n",
       "</tr>\n",
       "<tr>\n",
       "  <th>Df Residuals:</th>          <td>  2182</td>      <th>  BIC:               </th> <td>   8110.</td>\n",
       "</tr>\n",
       "<tr>\n",
       "  <th>Df Model:</th>              <td>     1</td>      <th>                     </th>     <td> </td>   \n",
       "</tr>\n",
       "</table>\n",
       "<table class=\"simpletable\">\n",
       "<tr>\n",
       "        <td></td>           <th>coef</th>     <th>std err</th>      <th>t</th>      <th>P>|t|</th> <th>[95.0% Conf. Int.]</th> \n",
       "</tr>\n",
       "<tr>\n",
       "  <th>Intercept</th>     <td>   21.9740</td> <td>    0.927</td> <td>   23.713</td> <td> 0.000</td> <td>   20.157    23.791</td>\n",
       "</tr>\n",
       "<tr>\n",
       "  <th>medIncome_log</th> <td>   -1.7231</td> <td>    0.089</td> <td>  -19.283</td> <td> 0.000</td> <td>   -1.898    -1.548</td>\n",
       "</tr>\n",
       "</table>\n",
       "<table class=\"simpletable\">\n",
       "<tr>\n",
       "  <th>Omnibus:</th>       <td>34.826</td> <th>  Durbin-Watson:     </th> <td>   2.019</td>\n",
       "</tr>\n",
       "<tr>\n",
       "  <th>Prob(Omnibus):</th> <td> 0.000</td> <th>  Jarque-Bera (JB):  </th> <td>  39.645</td>\n",
       "</tr>\n",
       "<tr>\n",
       "  <th>Skew:</th>          <td> 0.255</td> <th>  Prob(JB):          </th> <td>2.46e-09</td>\n",
       "</tr>\n",
       "<tr>\n",
       "  <th>Kurtosis:</th>      <td> 3.418</td> <th>  Cond. No.          </th> <td>    293.</td>\n",
       "</tr>\n",
       "</table>"
      ],
      "text/plain": [
       "<class 'statsmodels.iolib.summary.Summary'>\n",
       "\"\"\"\n",
       "                            OLS Regression Results                            \n",
       "==============================================================================\n",
       "Dep. Variable:           assaults_log   R-squared:                       0.146\n",
       "Model:                            OLS   Adj. R-squared:                  0.145\n",
       "Method:                 Least Squares   F-statistic:                     371.8\n",
       "Date:                Thu, 21 May 2015   Prob (F-statistic):           1.24e-76\n",
       "Time:                        22:52:10   Log-Likelihood:                -4047.3\n",
       "No. Observations:                2184   AIC:                             8099.\n",
       "Df Residuals:                    2182   BIC:                             8110.\n",
       "Df Model:                           1                                         \n",
       "=================================================================================\n",
       "                    coef    std err          t      P>|t|      [95.0% Conf. Int.]\n",
       "---------------------------------------------------------------------------------\n",
       "Intercept        21.9740      0.927     23.713      0.000        20.157    23.791\n",
       "medIncome_log    -1.7231      0.089    -19.283      0.000        -1.898    -1.548\n",
       "==============================================================================\n",
       "Omnibus:                       34.826   Durbin-Watson:                   2.019\n",
       "Prob(Omnibus):                  0.000   Jarque-Bera (JB):               39.645\n",
       "Skew:                           0.255   Prob(JB):                     2.46e-09\n",
       "Kurtosis:                       3.418   Cond. No.                         293.\n",
       "==============================================================================\n",
       "\"\"\""
      ]
     },
     "execution_count": 4,
     "metadata": {},
     "output_type": "execute_result"
    }
   ],
   "source": [
    "import numpy as np\n",
    "import statsmodels.formula.api as smf\n",
    "from seaborn import plt\n",
    "\n",
    "crime['assaults_log'] = np.log(crime.assaults[crime.assaults != 0])\n",
    "crime['medIncome_log'] = np.log(crime.medIncome[crime.assaults != 0])\n",
    "plt.scatter(crime['medIncome_log'], crime['assaults_log'])\n",
    "lm = smf.ols('assaults_log ~ medIncome_log', data=crime)\n",
    "fit = lm.fit()\n",
    "fit.summary()\n",
    "\n",
    "# Df Residuals - residual degrees-of-freedom\n",
    "# DF Model - degrees-of-freedom model (?)\n",
    "# R-squared - measures how well data matches the fit\n",
    "# Adj. R-squared - adjusted R-squared (?)\n",
    "# F-statistic - test statistic for variance\n",
    "# Log-Likelihood - log of likelihood function\n",
    "# AIC - Akaike information criterion (?)\n",
    "# BIC - Bayesian information criterion"
   ]
  },
  {
   "cell_type": "code",
   "execution_count": null,
   "metadata": {
    "collapsed": true
   },
   "outputs": [],
   "source": []
  },
  {
   "cell_type": "code",
   "execution_count": null,
   "metadata": {
    "collapsed": true
   },
   "outputs": [],
   "source": []
  },
  {
   "cell_type": "code",
   "execution_count": null,
   "metadata": {
    "collapsed": true
   },
   "outputs": [],
   "source": []
  },
  {
   "cell_type": "code",
   "execution_count": 11,
   "metadata": {
    "collapsed": false
   },
   "outputs": [
    {
     "name": "stdout",
     "output_type": "stream",
     "text": [
      "                            OLS Regression Results                            \n",
      "==============================================================================\n",
      "Dep. Variable:           assaults_log   R-squared:                       0.146\n",
      "Model:                            OLS   Adj. R-squared:                  0.145\n",
      "Method:                 Least Squares   F-statistic:                     371.8\n",
      "Date:                Thu, 21 May 2015   Prob (F-statistic):           1.24e-76\n",
      "Time:                        22:38:45   Log-Likelihood:                -4047.3\n",
      "No. Observations:                2184   AIC:                             8099.\n",
      "Df Residuals:                    2182   BIC:                             8110.\n",
      "Df Model:                           1                                         \n",
      "=================================================================================\n",
      "                    coef    std err          t      P>|t|      [95.0% Conf. Int.]\n",
      "---------------------------------------------------------------------------------\n",
      "Intercept        21.9740      0.927     23.713      0.000        20.157    23.791\n",
      "medIncome_log    -1.7231      0.089    -19.283      0.000        -1.898    -1.548\n",
      "==============================================================================\n",
      "Omnibus:                       34.826   Durbin-Watson:                   2.019\n",
      "Prob(Omnibus):                  0.000   Jarque-Bera (JB):               39.645\n",
      "Skew:                           0.255   Prob(JB):                     2.46e-09\n",
      "Kurtosis:                       3.418   Cond. No.                         293.\n",
      "==============================================================================\n"
     ]
    },
    {
     "data": {
      "image/png": "[encoded data removed]",
      "text/plain": [
       "<matplotlib.figure.Figure at 0x10d83b3d0>"
      ]
     },
     "metadata": {},
     "output_type": "display_data"
    }
   ],
   "source": [
    "crime['assaults_log'] = np.log(crime.assaults[crime.assaults != 0])\n",
    "crime['medIncome_log'] = np.log(crime.medIncome[crime.assaults != 0])\n",
    "plt.scatter(crime['medIncome_log'], crime['assaults_log'])\n",
    "lm = smf.ols('assaults_log ~ medIncome_log', data=crime)\n",
    "fit = lm.fit()\n",
    "print fit.summary()"
   ]
  },
  {
   "cell_type": "code",
   "execution_count": 25,
   "metadata": {
    "collapsed": false
   },
   "outputs": [],
   "source": [
    "np.reshape?"
   ]
  },
  {
   "cell_type": "code",
   "execution_count": null,
   "metadata": {
    "collapsed": false
   },
   "outputs": [],
   "source": [
    "import sklearn.linear_model as linear_model\n",
    "import math\n",
    "\n",
    "x_train = crime['medIncome_log'].values.reshape(-1,1)\n",
    "y_train = crime['assaults_log'].values\n",
    "\n",
    "def cleanup(data):\n",
    "    for i in range(len(data)):\n",
    "        d = data[i]\n",
    "        if math.isnan(d) or d == float('infinity') or d == float('-infinity'):\n",
    "            data[i] = 0\n",
    "            print i, \"set to zero from bad value\"\n",
    "        \n",
    "cleanup(x_train)\n",
    "#cleanup(y_train)\n",
    "\n",
    "# Create linear regression object\n",
    "regr = linear_model.LinearRegression()\n",
    "regr.fit(x_train, y_train)\n",
    "\n",
    "plt.scatter(x_train, y_train, color='black', s=1)\n",
    "plt.plot(x_train, regr.predict(x_train), color='blue', linewidth=3)\n",
    "\n",
    "#plt.show()"
   ]
  },
  {
   "cell_type": "code",
   "execution_count": 26,
   "metadata": {
    "collapsed": true
   },
   "outputs": [],
   "source": [
    "#crime['medIncome_log'].values.reshape"
   ]
  },
  {
   "cell_type": "code",
   "execution_count": 27,
   "metadata": {
    "collapsed": false,
    "scrolled": true
   },
   "outputs": [],
   "source": [
    "#crime['medIncome_log'].values.reshape(-1,1)"
   ]
  },
  {
   "cell_type": "code",
   "execution_count": 15,
   "metadata": {
    "collapsed": false
   },
   "outputs": [
    {
     "name": "stdout",
     "output_type": "stream",
     "text": [
      "x_train\n",
      "type <type 'numpy.ndarray'> len 2215 shape (2215, 1) [[ 11.22686874]\n",
      " [ 10.77722563]\n",
      " [ 10.48203724]\n",
      " ..., \n",
      " [ 10.21031027]\n",
      " [  9.89842476]\n",
      " [ 10.05565054]]\n",
      "y_train\n",
      "type <type 'numpy.ndarray'> \n",
      "len 2215 \n",
      "shape (2215,) \n",
      "[ 1.38629436  3.17805383  2.63905733 ...,  4.56434819  4.36944785\n",
      "  5.02388052]\n",
      "residuals 6583.23992868\n",
      "Coefficients: \n",
      "[ 0.10975489]\n",
      "Residual sum of squares: 2.97\n",
      "Variance score: 0.00\n",
      "intercept 2.93132657509\n"
     ]
    }
   ],
   "source": [
    "import pandas as pd\n",
    "\n",
    "x_train = crime['medIncome_log'].values.reshape(-1,1)\n",
    "\n",
    "# FIXME: use isnan, fillna, etc. instead here\n",
    "# cleanup X data\n",
    "for i in range(len(x_train)):\n",
    "    x = x_train[i]\n",
    "    if math.isnan(x) or x == float('infinity') or x == float('-infinity'):\n",
    "        x_train[i] = 0\n",
    "        print \"x_train\", i, \"set to zero from bad value\"\n",
    "\n",
    "print \"x_train\\n\", \"type\", type(x_train), \"len\", len(x_train), \"shape\", np.shape(x_train), x_train\n",
    "\n",
    "y_train = crime['assaults_log'].values\n",
    "print \"y_train\\n\", \"type\", type(y_train), \"\\n\", \"len\", len(y_train), \"\\n\", \"shape\", np.shape(y_train), \"\\n\", y_train\n",
    "\n",
    "# cleanup Y data\n",
    "for i in range(len(y_train)):\n",
    "    y = y_train[i]\n",
    "    if math.isnan(y) or y == float('infinity') or y == float('-infinity'):\n",
    "        y_train[i] = 0\n",
    "        print \"y_train\", i, \"set to zero from bad value\"\n",
    "    \n",
    "# Create linear regression object\n",
    "regr = linear_model.LinearRegression()\n",
    "regr.fit(x_train, y_train)\n",
    "print \"residuals\", regr.residues_\n",
    "print \"Coefficients: \\n\", regr.coef_\n",
    "\n",
    "# The mean square error\n",
    "print(\"Residual sum of squares: %.2f\" % np.mean((regr.predict(x_train) - y_train) ** 2))\n",
    "# Explained variance score: 1 is perfect prediction\n",
    "print('Variance score: %.2f' % regr.score(x_train, y_train))\n",
    "print \"intercept\", regr.intercept_\n",
    "\n",
    "# Plot outputs\n",
    "#plt.scatter(x_train, y_train, color='black', s=1)\n",
    "#plt.plot(x_train, regr.predict(x_train), color='blue', linewidth=3)\n",
    "\n",
    "#plt.xticks(())\n",
    "#plt.yticks(())\n",
    "#plt.show()"
   ]
  },
  {
   "cell_type": "code",
   "execution_count": 16,
   "metadata": {
    "collapsed": false
   },
   "outputs": [
    {
     "name": "stdout",
     "output_type": "stream",
     "text": [
      "y_train 223 set to zero from bad value\n",
      "y_train 296 set to zero from bad value\n",
      "y_train 358 set to zero from bad value\n",
      "y_train 436 set to zero from bad value\n",
      "y_train 539 set to zero from bad value\n",
      "y_train 727 set to zero from bad value\n",
      "y_train 818 set to zero from bad value\n",
      "y_train 836 set to zero from bad value\n",
      "y_train 1378 set to zero from bad value\n",
      "y_train 1627 set to zero from bad value\n",
      "y_train 1723 set to zero from bad value\n",
      "y_train 1857 set to zero from bad value\n",
      "y_train 2157 set to zero from bad value\n",
      "residuals 387548973.919\n",
      "Coefficients: \n",
      "[-0.01367608]\n",
      "Residual sum of squares: 174965.68\n",
      "Variance score: 0.16\n",
      "intercept 862.384254765\n"
     ]
    },
    {
     "data": {
      "image/png": "[encoded data removed]",
      "text/plain": [
       "<matplotlib.figure.Figure at 0x10d83b350>"
      ]
     },
     "metadata": {},
     "output_type": "display_data"
    }
   ],
   "source": [
    "x_train = crime['medIncome'].values.reshape(-1,1)\n",
    "\n",
    "crime['assault_rate'] = (crime['assaults'] / crime['population']) * 100000\n",
    "\n",
    "y_train = crime['assault_rate'].values\n",
    "\n",
    "# cleanup Y data\n",
    "for i in range(len(y_train)):\n",
    "    y = y_train[i]\n",
    "    if math.isnan(y) or y == float('infinity') or y == float('-infinity'):\n",
    "        y_train[i] = 0\n",
    "        print \"y_train\", i, \"set to zero from bad value\"\n",
    "\n",
    "# Create linear regression object\n",
    "regr = linear_model.LinearRegression()\n",
    "regr.fit(x_train, y_train)\n",
    "print \"residuals\", regr.residues_\n",
    "print \"Coefficients: \\n\", regr.coef_\n",
    "\n",
    "# The mean square error\n",
    "print(\"Residual sum of squares: %.2f\" % np.mean((regr.predict(x_train) - y_train) ** 2))\n",
    "# Explained variance score: 1 is perfect prediction\n",
    "print('Variance score: %.2f' % regr.score(x_train, y_train))\n",
    "print \"intercept\", regr.intercept_\n",
    "\n",
    "plt.scatter(x_train, y_train, color='black', s=1)\n",
    "plt.plot(x_train, regr.predict(x_train), color='blue', linewidth=3)\n",
    "\n",
    "plt.show()"
   ]
  },
  {
   "cell_type": "code",
   "execution_count": null,
   "metadata": {
    "collapsed": false
   },
   "outputs": [],
   "source": [
    "print x_train\n",
    "print y_train\n",
    "est = make_pipeline(PolynomialFeatures(3), Ridge(alpha=0.05))\n",
    "est.fit(crime['medIncome'].values, y_train)\n",
    "x_plot = list(range(0, 200000, 10000))\n",
    "#x_plot = [[0], [1000], [5000], [10000], [50000], [100000], [200000]]\n",
    "y_plot = est.predict(x_plot)\n",
    "\n",
    "#print fit\n",
    "#print(est)\n",
    "#fit.summary()"
   ]
  },
  {
   "cell_type": "code",
   "execution_count": 47,
   "metadata": {
    "collapsed": false
   },
   "outputs": [
    {
     "data": {
      "image/png": "[encoded data removed]",
      "text/plain": [
       "<matplotlib.figure.Figure at 0x11ab91850>"
      ]
     },
     "metadata": {},
     "output_type": "display_data"
    }
   ],
   "source": [
    "fig,ax = plt.subplots(1,1)\n",
    "\n",
    "def plot_approximation(x_plot, est, ax, label=None):\n",
    "    \"\"\"Plot the approximation of ``est`` on axis ``ax``. \"\"\"\n",
    "    #ax.plot(x_plot, f(x_plot), label='ground truth', color='green')\n",
    "    ax.scatter(x_train, y_train, s=1)\n",
    "    #ax.plot(x_plot, est.predict(x_plot[:, np.newaxis]), color='red', label=label)\n",
    "    #ax.set_ylim((-2, 2))\n",
    "    #ax.set_xlim((0, 1))\n",
    "    ax.set_ylabel('y')\n",
    "    ax.set_xlabel('x')\n",
    "    ax.legend(loc='upper right',frameon=True)\n",
    "\n",
    "#x_plot = list(range(0, 200000, 1000))\n",
    "#plot_approximation(x_plot, est, ax)"
   ]
  },
  {
   "cell_type": "code",
   "execution_count": 63,
   "metadata": {
    "collapsed": false
   },
   "outputs": [
    {
     "name": "stdout",
     "output_type": "stream",
     "text": [
      "                            OLS Regression Results                            \n",
      "==============================================================================\n",
      "Dep. Variable:           assault_rate   R-squared:                       0.161\n",
      "Model:                            OLS   Adj. R-squared:                  0.161\n",
      "Method:                 Least Squares   F-statistic:                     426.2\n",
      "Date:                Thu, 21 May 2015   Prob (F-statistic):           9.91e-87\n",
      "Time:                        18:41:39   Log-Likelihood:                -16513.\n",
      "No. Observations:                2215   AIC:                         3.303e+04\n",
      "Df Residuals:                    2213   BIC:                         3.304e+04\n",
      "Df Model:                           1                                         \n",
      "==============================================================================\n",
      "                 coef    std err          t      P>|t|      [95.0% Conf. Int.]\n",
      "------------------------------------------------------------------------------\n",
      "Intercept    862.3843     24.207     35.626      0.000       814.914   909.855\n",
      "medIncome     -0.0137      0.001    -20.643      0.000        -0.015    -0.012\n",
      "==============================================================================\n",
      "Omnibus:                     1300.051   Durbin-Watson:                   2.060\n",
      "Prob(Omnibus):                  0.000   Jarque-Bera (JB):            17270.432\n",
      "Skew:                           2.522   Prob(JB):                         0.00\n",
      "Kurtosis:                      15.716   Cond. No.                     9.95e+04\n",
      "==============================================================================\n",
      "\n",
      "Warnings:\n",
      "[1] The condition number is large, 9.95e+04. This might indicate that there are\n",
      "strong multicollinearity or other numerical problems.\n"
     ]
    }
   ],
   "source": [
    "# question 2\n",
    "lm = smf.ols('assault_rate ~ medIncome', data=crime)\n",
    "fit = lm.fit(alpha=0.05)\n",
    "print fit.summary()"
   ]
  },
  {
   "cell_type": "code",
   "execution_count": null,
   "metadata": {
    "collapsed": true
   },
   "outputs": [],
   "source": [
    "state the null hypothesis:\n",
    "There is no relationship between median income and ass"
   ]
  },
  {
   "cell_type": "code",
   "execution_count": null,
   "metadata": {
    "collapsed": true
   },
   "outputs": [],
   "source": []
  }
 ],
 "metadata": {
  "kernelspec": {
   "display_name": "Python 2",
   "language": "python",
   "name": "python2"
  },
  "language_info": {
   "codemirror_mode": {
    "name": "ipython",
    "version": 2
   },
   "file_extension": ".py",
   "mimetype": "text/x-python",
   "name": "python",
   "nbconvert_exporter": "python",
   "pygments_lexer": "ipython2",
   "version": "2.7.9"
  }
 },
 "nbformat": 4,
 "nbformat_minor": 0
}
