{
 "cells": [
  {
   "cell_type": "code",
   "execution_count": 22,
   "metadata": {
    "collapsed": true
   },
   "outputs": [],
   "source": [
    "# python imports\n",
    "%matplotlib inline\n",
    "from __future__ import division\n",
    "import pandas as pd\n",
    "import numpy as np\n",
    "import matplotlib.pyplot as plt\n",
    "from sklearn.datasets import load_iris\n",
    "\n",
    "from sklearn import neighbors, datasets, feature_selection\n",
    "from sklearn.cross_validation import train_test_split, cross_val_score\n",
    "\n",
    "import collections\n",
    "import operator\n",
    "import math"
   ]
  },
  {
   "cell_type": "code",
   "execution_count": 3,
   "metadata": {
    "collapsed": false
   },
   "outputs": [],
   "source": [
    "# Load in the data\n",
    "iris = datasets.load_iris()\n",
    "iris_df = pd.DataFrame(iris.data, columns=iris.feature_names)\n",
    "\n",
    "iris_df['Target'] = iris.target"
   ]
  },
  {
   "cell_type": "raw",
   "metadata": {},
   "source": [
    "1. Implement KNN classification, using the sklearn package. "
   ]
  },
  {
   "cell_type": "code",
   "execution_count": 4,
   "metadata": {
    "collapsed": false
   },
   "outputs": [
    {
     "name": "stdout",
     "output_type": "stream",
     "text": [
      "<type 'numpy.ndarray'>\n",
      "<type 'numpy.ndarray'>\n",
      "<type 'numpy.ndarray'>\n",
      "<type 'numpy.ndarray'>\n",
      "X_train  [[ 5.4  3.7  1.5  0.2]\n",
      " [ 5.1  3.8  1.6  0.2]\n",
      " [ 5.5  3.5  1.3  0.2]\n",
      " [ 6.7  3.3  5.7  2.1]\n",
      " [ 5.   3.4  1.5  0.2]\n",
      " [ 6.4  2.8  5.6  2.2]\n",
      " [ 6.   3.4  4.5  1.6]\n",
      " [ 6.9  3.1  4.9  1.5]\n",
      " [ 6.1  2.9  4.7  1.4]\n",
      " [ 5.3  3.7  1.5  0.2]\n",
      " [ 6.4  2.7  5.3  1.9]\n",
      " [ 5.8  2.6  4.   1.2]\n",
      " [ 6.1  3.   4.6  1.4]\n",
      " [ 6.9  3.2  5.7  2.3]\n",
      " [ 4.9  3.1  1.5  0.1]\n",
      " [ 5.7  2.5  5.   2. ]\n",
      " [ 5.4  3.9  1.7  0.4]\n",
      " [ 6.7  3.3  5.7  2.5]\n",
      " [ 4.9  2.5  4.5  1.7]\n",
      " [ 5.8  2.8  5.1  2.4]\n",
      " [ 6.   3.   4.8  1.8]\n",
      " [ 6.7  3.1  4.7  1.5]\n",
      " [ 4.9  2.4  3.3  1. ]\n",
      " [ 5.   2.3  3.3  1. ]\n",
      " [ 6.   2.7  5.1  1.6]\n",
      " [ 7.6  3.   6.6  2.1]\n",
      " [ 5.1  3.5  1.4  0.2]\n",
      " [ 6.7  3.1  5.6  2.4]\n",
      " [ 7.9  3.8  6.4  2. ]\n",
      " [ 4.9  3.1  1.5  0.1]\n",
      " [ 5.6  2.7  4.2  1.3]\n",
      " [ 5.7  3.8  1.7  0.3]\n",
      " [ 6.4  3.2  5.3  2.3]\n",
      " [ 7.7  2.8  6.7  2. ]\n",
      " [ 5.   3.5  1.6  0.6]\n",
      " [ 6.4  3.2  4.5  1.5]\n",
      " [ 5.6  2.5  3.9  1.1]\n",
      " [ 4.7  3.2  1.6  0.2]\n",
      " [ 5.4  3.4  1.7  0.2]\n",
      " [ 6.3  2.3  4.4  1.3]\n",
      " [ 5.7  2.8  4.5  1.3]\n",
      " [ 6.5  2.8  4.6  1.5]\n",
      " [ 5.4  3.   4.5  1.5]\n",
      " [ 6.4  3.1  5.5  1.8]\n",
      " [ 6.6  2.9  4.6  1.3]\n",
      " [ 6.9  3.1  5.4  2.1]\n",
      " [ 5.2  3.4  1.4  0.2]\n",
      " [ 4.7  3.2  1.3  0.2]\n",
      " [ 5.8  2.7  4.1  1. ]\n",
      " [ 5.7  3.   4.2  1.2]\n",
      " [ 5.9  3.2  4.8  1.8]\n",
      " [ 4.4  3.2  1.3  0.2]\n",
      " [ 5.6  2.8  4.9  2. ]\n",
      " [ 5.   2.   3.5  1. ]\n",
      " [ 4.6  3.2  1.4  0.2]\n",
      " [ 7.1  3.   5.9  2.1]\n",
      " [ 6.3  3.4  5.6  2.4]\n",
      " [ 5.5  2.3  4.   1.3]\n",
      " [ 6.1  3.   4.9  1.8]\n",
      " [ 5.9  3.   5.1  1.8]\n",
      " [ 4.9  3.1  1.5  0.1]\n",
      " [ 5.1  3.8  1.9  0.4]\n",
      " [ 7.3  2.9  6.3  1.8]\n",
      " [ 6.7  3.1  4.4  1.4]\n",
      " [ 6.2  2.2  4.5  1.5]\n",
      " [ 7.2  3.   5.8  1.6]\n",
      " [ 5.   3.6  1.4  0.2]\n",
      " [ 6.3  3.3  4.7  1.6]\n",
      " [ 6.2  2.9  4.3  1.3]\n",
      " [ 5.   3.   1.6  0.2]\n",
      " [ 5.7  2.6  3.5  1. ]\n",
      " [ 5.6  3.   4.1  1.3]\n",
      " [ 6.5  3.   5.2  2. ]\n",
      " [ 5.8  2.7  5.1  1.9]\n",
      " [ 5.2  2.7  3.9  1.4]\n",
      " [ 5.2  3.5  1.5  0.2]\n",
      " [ 6.5  3.2  5.1  2. ]\n",
      " [ 5.2  4.1  1.5  0.1]\n",
      " [ 6.8  3.   5.5  2.1]\n",
      " [ 4.8  3.1  1.6  0.2]\n",
      " [ 4.8  3.   1.4  0.3]\n",
      " [ 6.1  2.8  4.7  1.2]\n",
      " [ 7.2  3.6  6.1  2.5]\n",
      " [ 6.3  2.7  4.9  1.8]\n",
      " [ 5.7  2.9  4.2  1.3]\n",
      " [ 6.   2.2  5.   1.5]\n",
      " [ 6.3  3.3  6.   2.5]\n",
      " [ 5.   3.2  1.2  0.2]\n",
      " [ 5.5  2.5  4.   1.3]\n",
      " [ 5.8  2.7  3.9  1.2]\n",
      " [ 4.3  3.   1.1  0.1]\n",
      " [ 6.5  3.   5.8  2.2]\n",
      " [ 7.7  3.8  6.7  2.2]\n",
      " [ 6.4  2.8  5.6  2.1]\n",
      " [ 6.4  2.9  4.3  1.3]\n",
      " [ 7.7  2.6  6.9  2.3]\n",
      " [ 6.9  3.1  5.1  2.3]\n",
      " [ 6.3  2.8  5.1  1.5]\n",
      " [ 5.   3.3  1.4  0.2]\n",
      " [ 4.6  3.6  1.   0.2]\n",
      " [ 6.8  2.8  4.8  1.4]\n",
      " [ 4.6  3.1  1.5  0.2]\n",
      " [ 7.4  2.8  6.1  1.9]\n",
      " [ 6.1  2.6  5.6  1.4]\n",
      " [ 6.6  3.   4.4  1.4]]\n",
      "X_test  [[ 5.   3.5  1.3  0.3]\n",
      " [ 6.3  2.5  5.   1.9]\n",
      " [ 4.4  3.   1.3  0.2]\n",
      " [ 5.7  2.8  4.1  1.3]\n",
      " [ 6.8  3.2  5.9  2.3]\n",
      " [ 6.5  3.   5.5  1.8]\n",
      " [ 6.2  3.4  5.4  2.3]\n",
      " [ 5.1  3.4  1.5  0.2]\n",
      " [ 7.7  3.   6.1  2.3]\n",
      " [ 5.1  3.3  1.7  0.5]\n",
      " [ 5.6  3.   4.5  1.5]\n",
      " [ 5.4  3.9  1.3  0.4]\n",
      " [ 5.4  3.4  1.5  0.4]\n",
      " [ 5.1  3.7  1.5  0.4]\n",
      " [ 7.   3.2  4.7  1.4]\n",
      " [ 7.2  3.2  6.   1.8]\n",
      " [ 6.7  2.5  5.8  1.8]\n",
      " [ 5.9  3.   4.2  1.5]\n",
      " [ 4.6  3.4  1.4  0.3]\n",
      " [ 6.3  2.5  4.9  1.5]\n",
      " [ 4.9  3.   1.4  0.2]\n",
      " [ 6.1  2.8  4.   1.3]\n",
      " [ 6.2  2.8  4.8  1.8]\n",
      " [ 6.   2.9  4.5  1.5]\n",
      " [ 4.8  3.4  1.9  0.2]\n",
      " [ 6.7  3.   5.2  2.3]\n",
      " [ 6.7  3.   5.   1.7]\n",
      " [ 5.5  2.6  4.4  1.2]\n",
      " [ 4.8  3.4  1.6  0.2]\n",
      " [ 4.5  2.3  1.3  0.3]\n",
      " [ 5.1  3.5  1.4  0.3]\n",
      " [ 5.5  2.4  3.7  1. ]\n",
      " [ 6.3  2.9  5.6  1.8]\n",
      " [ 5.5  4.2  1.4  0.2]\n",
      " [ 5.8  2.7  5.1  1.9]\n",
      " [ 5.7  4.4  1.5  0.4]\n",
      " [ 5.6  2.9  3.6  1.3]\n",
      " [ 5.5  2.4  3.8  1.1]\n",
      " [ 5.8  4.   1.2  0.2]\n",
      " [ 6.   2.2  4.   1. ]\n",
      " [ 5.1  2.5  3.   1.1]\n",
      " [ 5.   3.4  1.6  0.4]\n",
      " [ 4.4  2.9  1.4  0.2]\n",
      " [ 5.1  3.8  1.5  0.3]\n",
      " [ 4.8  3.   1.4  0.1]]\n",
      "y_train  [0 0 0 2 0 2 1 1 1 0 2 1 1 2 0 2 0 2 2 2 2 1 1 1 1 2 0 2 2 0 1 0 2 2 0 1 1\n",
      " 0 0 1 1 1 1 2 1 2 0 0 1 1 1 0 2 1 0 2 2 1 2 2 0 0 2 1 1 2 0 1 1 0 1 1 2 2\n",
      " 1 0 2 0 2 0 0 1 2 2 1 2 2 0 1 1 0 2 2 2 1 2 2 2 0 0 1 0 2 2 1]\n",
      "y_test  [0 2 0 1 2 2 2 0 2 0 1 0 0 0 1 2 2 1 0 1 0 1 2 1 0 2 1 1 0 0 0 1 2 0 2 0 1\n",
      " 1 0 1 1 0 0 0 0]\n"
     ]
    },
    {
     "data": {
      "text/plain": [
       "[<matplotlib.lines.Line2D at 0x10b911a90>]"
      ]
     },
     "execution_count": 4,
     "metadata": {},
     "output_type": "execute_result"
    },
    {
     "data": {
      "image/png": "[encoded data removed]",
      "text/plain": [
       "<matplotlib.figure.Figure at 0x1030a4b90>"
      ]
     },
     "metadata": {},
     "output_type": "display_data"
    }
   ],
   "source": [
    "# splitting data and target classifications into train and test sets and run KNN classification\n",
    "def knn(data, target, n_neighbors):\n",
    "\n",
    "    # split the data into train and test datasets\n",
    "    x_train, x_test, y_train, y_test = train_test_split(data, target, test_size=0.3, random_state=12)\n",
    "\n",
    "    print type(x_train)\n",
    "    print type(x_test)\n",
    "    print type(y_train)\n",
    "    print type(y_test)\n",
    "    \n",
    "    print \"X_train \", x_train\n",
    "    print \"X_test \", x_test\n",
    "    print \"y_train \", y_train\n",
    "    print \"y_test \", y_test\n",
    "    \n",
    "    # Loop through each neighbors value and append the scores\n",
    "    scores = []\n",
    "    for n in n_neighbors:\n",
    "        clf = neighbors.KNeighborsClassifier(n)\n",
    "        clf.fit(x_train, y_train)\n",
    "        scores.append(clf.score(x_test, y_test))\n",
    "        \n",
    "    return scores\n",
    "\n",
    "# use function on iris data\n",
    "n_neighbors = n_neighbors = range(1, 51, 2)\n",
    "scores = knn(iris.data, iris.target, n_neighbors)\n",
    "\n",
    "# plot result\n",
    "plt.plot(n_neighbors, scores, linewidth=3.0)"
   ]
  },
  {
   "cell_type": "raw",
   "metadata": {
    "collapsed": true
   },
   "source": [
    "2. Use the sklearn package to implement cross-validation for your classifier. Use 5 folds for your cross-validation."
   ]
  },
  {
   "cell_type": "code",
   "execution_count": 5,
   "metadata": {
    "collapsed": false
   },
   "outputs": [
    {
     "name": "stdout",
     "output_type": "stream",
     "text": [
      "[ 0.96666667  0.96666667  0.93333333  0.93333333  1.        ]\n",
      "0.96\n",
      "[ 0.96666667  0.96666667  0.93333333  0.96666667  1.        ]\n",
      "0.966666666667\n",
      "[ 0.96666667  1.          0.93333333  0.96666667  1.        ]\n",
      "0.973333333333\n",
      "[ 0.96666667  1.          0.96666667  0.96666667  1.        ]\n",
      "0.98\n",
      "[ 0.96666667  1.          0.96666667  0.93333333  1.        ]\n",
      "0.973333333333\n",
      "[ 0.93333333  1.          1.          0.96666667  1.        ]\n",
      "0.98\n",
      "[ 0.93333333  1.          0.96666667  0.96666667  1.        ]\n",
      "0.973333333333\n",
      "[ 0.93333333  1.          0.93333333  0.96666667  1.        ]\n",
      "0.966666666667\n",
      "[ 0.93333333  1.          0.93333333  0.96666667  1.        ]\n",
      "0.966666666667\n",
      "[ 0.93333333  1.          0.93333333  0.96666667  1.        ]\n",
      "0.966666666667\n",
      "[ 0.93333333  1.          0.93333333  0.96666667  1.        ]\n",
      "0.966666666667\n",
      "[ 0.93333333  1.          0.93333333  0.93333333  1.        ]\n",
      "0.96\n",
      "[ 0.93333333  0.96666667  0.93333333  0.96666667  1.        ]\n",
      "0.96\n",
      "[ 0.9         0.96666667  0.93333333  0.93333333  1.        ]\n",
      "0.946666666667\n",
      "[ 0.9         0.96666667  0.9         0.9         1.        ]\n",
      "0.933333333333\n",
      "[ 0.9         0.96666667  0.9         0.9         1.        ]\n",
      "0.933333333333\n",
      "[ 0.93333333  0.96666667  0.9         0.9         1.        ]\n",
      "0.94\n",
      "[ 0.93333333  0.96666667  0.93333333  0.93333333  1.        ]\n",
      "0.953333333333\n",
      "[ 0.9         0.96666667  0.93333333  0.93333333  1.        ]\n",
      "0.946666666667\n",
      "[ 0.9         0.93333333  0.93333333  0.93333333  1.        ]\n",
      "0.94\n",
      "[ 0.9         0.93333333  0.93333333  0.93333333  1.        ]\n",
      "0.94\n",
      "[ 0.9         0.93333333  0.93333333  0.93333333  1.        ]\n",
      "0.94\n",
      "[ 0.9         0.93333333  0.9         0.96666667  1.        ]\n",
      "0.94\n",
      "[ 0.9         0.93333333  0.86666667  0.96666667  0.96666667]\n",
      "0.926666666667\n",
      "[ 0.9         0.93333333  0.9         0.96666667  1.        ]\n",
      "0.94\n"
     ]
    }
   ],
   "source": [
    "def xvalidate(data, target, n_neighbor):\n",
    "    clf = neighbors.KNeighborsClassifier(n_neighbor, weights='uniform')\n",
    "    clf.fit(data, target)\n",
    "    scores = cross_val_score(clf, data, target, cv=5)\n",
    "    return scores\n",
    "\n",
    "def mean(values):\n",
    "    tot = 0\n",
    "    for v in values:\n",
    "        tot += v\n",
    "    return tot / len(values)\n",
    "\n",
    "for x in range(1, 51, 2):\n",
    "    xvalidate_scores = xvalidate(iris.data, iris.target, x)\n",
    "    print xvalidate_scores\n",
    "    print mean(xvalidate_scores)"
   ]
  },
  {
   "cell_type": "raw",
   "metadata": {},
   "source": [
    "3. Use your KNN classifier and cross-validation code from (1) and (2) above to determine the optimal value of K (number of nearest neighbors to consult) for this Iris dataset. Hint: This hyperparameter will be a number between 1 and 150."
   ]
  },
  {
   "cell_type": "code",
   "execution_count": 6,
   "metadata": {
    "collapsed": false
   },
   "outputs": [
    {
     "name": "stdout",
     "output_type": "stream",
     "text": [
      "150\n",
      "5\n"
     ]
    }
   ],
   "source": [
    "print len(iris.data)\n",
    "\n",
    "def find_optimal_k(data):\n",
    "    max_neighbors = int(len(data) / 2)\n",
    "    neighbor_scores = {}\n",
    "    for x in range(1, max_neighbors, 1):\n",
    "        xvalidate_scores = xvalidate(iris.data, iris.target, x)        \n",
    "        avg = mean(xvalidate_scores)\n",
    "        neighbor_scores[x] = avg\n",
    "    max_value = max(neighbor_scores.values())\n",
    "    max_index = neighbor_scores.values().index(max_value)\n",
    "    return max_index\n",
    "\n",
    "k = find_optimal_k(iris.data)\n",
    "print k\n",
    "#print max_index, max_value"
   ]
  },
  {
   "cell_type": "raw",
   "metadata": {},
   "source": [
    "4. Using matplotlib, plot classifier accuracy versus the hyperparameter K for a range of K that you consider interesting. Explain in words what you are seeing."
   ]
  },
  {
   "cell_type": "code",
   "execution_count": 7,
   "metadata": {
    "collapsed": false
   },
   "outputs": [
    {
     "ename": "NameError",
     "evalue": "name 'neighbor_scores' is not defined",
     "output_type": "error",
     "traceback": [
      "\u001b[0;31m---------------------------------------------------------------------------\u001b[0m",
      "\u001b[0;31mNameError\u001b[0m                                 Traceback (most recent call last)",
      "\u001b[0;32m<ipython-input-7-c86ec372b265>\u001b[0m in \u001b[0;36m<module>\u001b[0;34m()\u001b[0m\n\u001b[0;32m----> 1\u001b[0;31m \u001b[0mplt\u001b[0m\u001b[0;34m.\u001b[0m\u001b[0mplot\u001b[0m\u001b[0;34m(\u001b[0m\u001b[0mneighbor_scores\u001b[0m\u001b[0;34m.\u001b[0m\u001b[0mkeys\u001b[0m\u001b[0;34m(\u001b[0m\u001b[0;34m)\u001b[0m\u001b[0;34m,\u001b[0m \u001b[0mneighbor_scores\u001b[0m\u001b[0;34m.\u001b[0m\u001b[0mvalues\u001b[0m\u001b[0;34m(\u001b[0m\u001b[0;34m)\u001b[0m\u001b[0;34m)\u001b[0m\u001b[0;34m\u001b[0m\u001b[0m\n\u001b[0m",
      "\u001b[0;31mNameError\u001b[0m: name 'neighbor_scores' is not defined"
     ]
    }
   ],
   "source": [
    "plt.plot(neighbor_scores.keys(), neighbor_scores.values())"
   ]
  },
  {
   "cell_type": "raw",
   "metadata": {},
   "source": [
    "5. Now, write your own implementation of cross-validation in Python without using the cross-validation methods from sklearn. Cross validation is a very important concept. Implementing it yourself in Python is the best way to learn and understand it. Compare the results of your cross-validation code with your results using the cross-validation in sklearn."
   ]
  },
  {
   "cell_type": "code",
   "execution_count": null,
   "metadata": {
    "collapsed": false
   },
   "outputs": [],
   "source": [
    "import random\n",
    "def my_xvalidate(data, target, folds):\n",
    "    data_indices = range(0, len(data), 1)\n",
    "    random.shuffle(data_indices)    \n",
    "    n_items = int((len(data) / folds))\n",
    "    begin_index = 0\n",
    "    end_index = n_items - 1\n",
    "    n_neighbors = [11]\n",
    "    scores = []\n",
    "    for n_fold in range(folds):\n",
    "        fold_data = data[begin_index:end_index, :]\n",
    "        fold_labels = target[begin_index:end_index]\n",
    "        fold_score = knn(fold_data, fold_labels, n_neighbors)\n",
    "        scores.append(fold_score[0])\n",
    "        begin_index += n_items\n",
    "        end_index += n_items    \n",
    "    return scores\n",
    "    \n",
    "scores = my_xvalidate(iris.data, iris.target, 5)\n",
    "print scores\n",
    "print mean(scores)"
   ]
  },
  {
   "cell_type": "raw",
   "metadata": {},
   "source": [
    "6. EXTRA CREDIT 1: Using the value of K obtained in (3) above, vary the number of folds used for cross-validation across an interesting range, e.g. [ 2, 3, 5, 6, 10, 15]. How does classifier accuracy vary with the number of folds used? Do you think there exists an optimal number of folds to use for this particular problem? Why or why not?"
   ]
  },
  {
   "cell_type": "code",
   "execution_count": null,
   "metadata": {
    "collapsed": false
   },
   "outputs": [],
   "source": [
    "n_neighbors = [2, 3, 5, 6, 10, 15]\n",
    "xvalidate_scores = []\n",
    "for n_neighbor in n_neighbors:\n",
    "    scores = xvalidate(iris.data, iris.target, n_neighbor)\n",
    "    #print scores\n",
    "    #print mean(scores)\n",
    "    xvalidate_scores.append(mean(scores))\n",
    "    \n",
    "plt.plot(n_neighbors, xvalidate_scores)"
   ]
  },
  {
   "cell_type": "raw",
   "metadata": {},
   "source": [
    "7. EXTRA CREDIT 2: Write your own implementation of KNN classification in Python, without using the methods from sklearn. Compare your results with the results you obtained using sklearn."
   ]
  },
  {
   "cell_type": "code",
   "execution_count": 66,
   "metadata": {
    "collapsed": false
   },
   "outputs": [
    {
     "name": "stdout",
     "output_type": "stream",
     "text": [
      "score 0.88\n"
     ]
    }
   ],
   "source": [
    "# TODO TODO TODO\n",
    "\n",
    "import math\n",
    "\n",
    "# compute distance between two N-dimensional points\n",
    "def dist(data1, data2):\n",
    "    tot = 0\n",
    "    for i in range(len(data1)):\n",
    "        d = data1[i] - data2[i]\n",
    "        tot += math.pow(d, 2)\n",
    "    return math.sqrt(tot)\n",
    "\n",
    "# get the label of a point by looking at the classification of its K closest neighbors\n",
    "def get_label(data, labels, point, k):\n",
    "        \n",
    "    # get the distances between this point and every other\n",
    "    distances = {}\n",
    "    for i in range(len(data)):        \n",
    "        # FIXME: probably want to ignore this point here to avoid hacks later\n",
    "        distances[i] = dist(data[i], point)\n",
    "        \n",
    "    # sort the distances\n",
    "    sorted_distances = sorted(distances.items(), key=operator.itemgetter(1))\n",
    "         \n",
    "    # get the data indices of the closest K points, ignoring distance 0 which is this point! \n",
    "    indices = []\n",
    "    for j in range(k+1):\n",
    "        if (sorted_distances[j][1] != 0.):\n",
    "            indices.append(sorted_distances[j][0])\n",
    "            \n",
    "    # get the labels of these points\n",
    "    neighbor_labels = []\n",
    "    for i in indices:\n",
    "        neighbor_labels.append(labels[i])\n",
    "                \n",
    "    # count the label values\n",
    "    label_counts = collections.Counter(neighbor_labels)\n",
    "    sorted_counts = sorted(label_counts.items(), key=operator.itemgetter(1))\n",
    "        \n",
    "    # return the label with the most counts\n",
    "    return sorted_counts[0][0]\n",
    "        \n",
    "def my_knn(values, target, k):\n",
    "    labels = []\n",
    "    for i in range(len(values)):\n",
    "        value = values[i]\n",
    "        label = get_label(values, target, value, k)\n",
    "        labels.append(label)\n",
    "    return labels\n",
    "\n",
    "def compute_score(test, train):\n",
    "    nright = 0\n",
    "    for i in range(len(test)):\n",
    "        if (test[i] == train[i]):\n",
    "            nright += 1\n",
    "    return nright / len(test)\n",
    "\n",
    "# get the labels from running my KNN method (example of just running on all data and labels)\n",
    "labels = my_knn(iris.data, iris.target, 5)\n",
    "\n",
    "#print \"labels\", labels\n",
    "\n",
    "score = compute_score(labels, iris.target)\n",
    "print \"score\", score"
   ]
  },
  {
   "cell_type": "code",
   "execution_count": null,
   "metadata": {
    "collapsed": true
   },
   "outputs": [],
   "source": []
  }
 ],
 "metadata": {
  "kernelspec": {
   "display_name": "Python 2",
   "language": "python",
   "name": "python2"
  },
  "language_info": {
   "codemirror_mode": {
    "name": "ipython",
    "version": 2
   },
   "file_extension": ".py",
   "mimetype": "text/x-python",
   "name": "python",
   "nbconvert_exporter": "python",
   "pygments_lexer": "ipython2",
   "version": "2.7.9"
  }
 },
 "nbformat": 4,
 "nbformat_minor": 0
}
