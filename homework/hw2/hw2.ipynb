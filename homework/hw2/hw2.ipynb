{
 "cells": [
  {
   "cell_type": "code",
   "execution_count": 10,
   "metadata": {
    "collapsed": true
   },
   "outputs": [],
   "source": [
    "# python imports\n",
    "%matplotlib inline\n",
    "from __future__ import division\n",
    "import pandas as pd\n",
    "import numpy as np\n",
    "import matplotlib.pyplot as plt\n",
    "from sklearn.datasets import load_iris\n",
    "\n",
    "from sklearn import neighbors, datasets, feature_selection\n",
    "from sklearn.cross_validation import train_test_split, cross_val_score"
   ]
  },
  {
   "cell_type": "code",
   "execution_count": 11,
   "metadata": {
    "collapsed": false
   },
   "outputs": [],
   "source": [
    "# Load in the data\n",
    "iris = datasets.load_iris()\n",
    "iris_df = pd.DataFrame(iris.data, columns=iris.feature_names)\n",
    "\n",
    "iris_df['Target'] = iris.target"
   ]
  },
  {
   "cell_type": "raw",
   "metadata": {},
   "source": [
    "1. Implement KNN classification, using the sklearn package. "
   ]
  },
  {
   "cell_type": "code",
   "execution_count": 13,
   "metadata": {
    "collapsed": false
   },
   "outputs": [
    {
     "data": {
      "text/plain": [
       "[<matplotlib.lines.Line2D at 0x10af62c50>]"
      ]
     },
     "execution_count": 13,
     "metadata": {},
     "output_type": "execute_result"
    },
    {
     "data": {
      "image/png": "[encoded data removed]",
      "text/plain": [
       "<matplotlib.figure.Figure at 0x1049c2810>"
      ]
     },
     "metadata": {},
     "output_type": "display_data"
    }
   ],
   "source": [
    "# splitting data and target classifications into train and test sets and run KNN classification\n",
    "def knn(data, target, n_neighbors):\n",
    "\n",
    "    # split the data into train and test datasets\n",
    "    X_train, X_test, y_train, y_test = train_test_split(data, target, test_size=0.3, random_state=12)\n",
    "\n",
    "    # Loop through each neighbors value and append the scores\n",
    "    scores = []\n",
    "    for n in n_neighbors:\n",
    "        clf = neighbors.KNeighborsClassifier(n)\n",
    "        clf.fit(X_train, y_train)\n",
    "        scores.append(clf.score(X_test, y_test))\n",
    "        \n",
    "    return scores\n",
    "\n",
    "# use function on iris data\n",
    "n_neighbors = n_neighbors = range(1, 51, 2)\n",
    "scores = knn(iris.data, iris.target, n_neighbors)\n",
    "\n",
    "# plot result\n",
    "plt.plot(n_neighbors, scores, linewidth=3.0)"
   ]
  },
  {
   "cell_type": "code",
   "execution_count": null,
   "metadata": {
    "collapsed": true
   },
   "outputs": [],
   "source": [
    "2. Use the sklearn package to implement cross-validation for your classifier. Use 5 folds for your cross-validation."
   ]
  },
  {
   "cell_type": "code",
   "execution_count": 18,
   "metadata": {
    "collapsed": false
   },
   "outputs": [
    {
     "name": "stdout",
     "output_type": "stream",
     "text": [
      "[ 0.96666667  0.96666667  0.93333333  0.93333333  1.        ]\n",
      "0.96\n",
      "[ 0.96666667  0.96666667  0.93333333  0.96666667  1.        ]\n",
      "0.966666666667\n",
      "[ 0.96666667  1.          0.93333333  0.96666667  1.        ]\n",
      "0.973333333333\n",
      "[ 0.96666667  1.          0.96666667  0.96666667  1.        ]\n",
      "0.98\n",
      "[ 0.96666667  1.          0.96666667  0.93333333  1.        ]\n",
      "0.973333333333\n",
      "[ 0.93333333  1.          1.          0.96666667  1.        ]\n",
      "0.98\n",
      "[ 0.93333333  1.          0.96666667  0.96666667  1.        ]\n",
      "0.973333333333\n",
      "[ 0.93333333  1.          0.93333333  0.96666667  1.        ]\n",
      "0.966666666667\n",
      "[ 0.93333333  1.          0.93333333  0.96666667  1.        ]\n",
      "0.966666666667\n",
      "[ 0.93333333  1.          0.93333333  0.96666667  1.        ]\n",
      "0.966666666667\n",
      "[ 0.93333333  1.          0.93333333  0.96666667  1.        ]\n",
      "0.966666666667\n",
      "[ 0.93333333  1.          0.93333333  0.93333333  1.        ]\n",
      "0.96\n",
      "[ 0.93333333  0.96666667  0.93333333  0.96666667  1.        ]\n",
      "0.96\n",
      "[ 0.9         0.96666667  0.93333333  0.93333333  1.        ]\n",
      "0.946666666667\n",
      "[ 0.9         0.96666667  0.9         0.9         1.        ]\n",
      "0.933333333333\n",
      "[ 0.9         0.96666667  0.9         0.9         1.        ]\n",
      "0.933333333333\n",
      "[ 0.93333333  0.96666667  0.9         0.9         1.        ]\n",
      "0.94\n",
      "[ 0.93333333  0.96666667  0.93333333  0.93333333  1.        ]\n",
      "0.953333333333\n",
      "[ 0.9         0.96666667  0.93333333  0.93333333  1.        ]\n",
      "0.946666666667\n",
      "[ 0.9         0.93333333  0.93333333  0.93333333  1.        ]\n",
      "0.94\n",
      "[ 0.9         0.93333333  0.93333333  0.93333333  1.        ]\n",
      "0.94\n",
      "[ 0.9         0.93333333  0.93333333  0.93333333  1.        ]\n",
      "0.94\n",
      "[ 0.9         0.93333333  0.9         0.96666667  1.        ]\n",
      "0.94\n",
      "[ 0.9         0.93333333  0.86666667  0.96666667  0.96666667]\n",
      "0.926666666667\n",
      "[ 0.9         0.93333333  0.9         0.96666667  1.        ]\n",
      "0.94\n"
     ]
    }
   ],
   "source": [
    "def xvalidate(data, target, n_neighbor):\n",
    "    clf = neighbors.KNeighborsClassifier(n_neighbor, weights='uniform')\n",
    "    clf.fit(data, target)\n",
    "    scores = cross_val_score(clf, data, target, cv=5)\n",
    "    return scores\n",
    "\n",
    "def mean(values):\n",
    "    tot = 0\n",
    "    for v in values:\n",
    "        tot += v\n",
    "    return tot / len(values)\n",
    "\n",
    "for x in range(1, 51, 2):\n",
    "    xvalidate_scores = xvalidate(iris.data, iris.target, x)\n",
    "    print xvalidate_scores\n",
    "    print mean(xvalidate_scores)"
   ]
  },
  {
   "cell_type": "raw",
   "metadata": {},
   "source": [
    "3. Use your KNN classifier and cross-validation code from (1) and (2) above to determine the optimal value of K (number of nearest neighbors to consult) for this Iris dataset. Hint: This hyperparameter will be a number between 1 and 150."
   ]
  },
  {
   "cell_type": "code",
   "execution_count": 33,
   "metadata": {
    "collapsed": false
   },
   "outputs": [
    {
     "name": "stdout",
     "output_type": "stream",
     "text": [
      "150\n",
      "5 0.98\n"
     ]
    }
   ],
   "source": [
    "print len(iris.data)\n",
    "max_neighbors = int(len(iris.data) / 2)\n",
    "neighbor_scores = {}\n",
    "for x in range(1, max_neighbors, 1):\n",
    "    xvalidate_scores = xvalidate(iris.data, iris.target, x)\n",
    "    #print xvalidate_scores\n",
    "    avg = mean(xvalidate_scores)\n",
    "    neighbor_scores[x] = avg\n",
    "\n",
    "#print neighbor_scores\n",
    "max_value = max(neighbor_scores.values())\n",
    "max_index = neighbor_scores.values().index(max_value)\n",
    "\n",
    "print max_index, max_value"
   ]
  },
  {
   "cell_type": "raw",
   "metadata": {},
   "source": [
    "4. Using matplotlib, plot classifier accuracy versus the hyperparameter K for a range of K that you consider interesting. Explain in words what you are seeing."
   ]
  },
  {
   "cell_type": "code",
   "execution_count": 34,
   "metadata": {
    "collapsed": false
   },
   "outputs": [
    {
     "data": {
      "text/plain": [
       "[<matplotlib.lines.Line2D at 0x10b5c7410>]"
      ]
     },
     "execution_count": 34,
     "metadata": {},
     "output_type": "execute_result"
    },
    {
     "data": {
      "image/png": "[encoded data removed]",
      "text/plain": [
       "<matplotlib.figure.Figure at 0x10b430e10>"
      ]
     },
     "metadata": {},
     "output_type": "display_data"
    }
   ],
   "source": [
    "plt.plot(neighbor_scores.keys(), neighbor_scores.values())"
   ]
  },
  {
   "cell_type": "raw",
   "metadata": {},
   "source": [
    "5. Now, write your own implementation of cross-validation in Python without using the cross-validation methods from sklearn. Cross validation is a very important concept. Implementing it yourself in Python is the best way to learn and understand it. Compare the results of your cross-validation code with your results using the cross-validation in sklearn."
   ]
  },
  {
   "cell_type": "code",
   "execution_count": 36,
   "metadata": {
    "collapsed": false
   },
   "outputs": [
    {
     "name": "stdout",
     "output_type": "stream",
     "text": [
      "[0, 1, 2, 3, 4, 5, 6, 7, 8, 9, 10, 11, 12, 13, 14, 15, 16, 17, 18, 19, 20, 21, 22, 23, 24, 25, 26, 27, 28, 29, 30, 31, 32, 33, 34, 35, 36, 37, 38, 39, 40, 41, 42, 43, 44, 45, 46, 47, 48, 49, 50, 51, 52, 53, 54, 55, 56, 57, 58, 59, 60, 61, 62, 63, 64, 65, 66, 67, 68, 69, 70, 71, 72, 73, 74, 75, 76, 77, 78, 79, 80, 81, 82, 83, 84, 85, 86, 87, 88, 89, 90, 91, 92, 93, 94, 95, 96, 97, 98, 99, 100, 101, 102, 103, 104, 105, 106, 107, 108, 109, 110, 111, 112, 113, 114, 115, 116, 117, 118, 119, 120, 121, 122, 123, 124, 125, 126, 127, 128, 129, 130, 131, 132, 133, 134, 135, 136, 137, 138, 139, 140, 141, 142, 143, 144, 145, 146, 147, 148, 149]\n"
     ]
    }
   ],
   "source": [
    "def my_xvalidate(data, target, folds):\n",
    "    data_indices = range(0, len(data), 1)\n",
    "    print data_indices\n",
    "    \n",
    "my_xvalidate(iris.data, iris.target, 5)"
   ]
  },
  {
   "cell_type": "raw",
   "metadata": {},
   "source": [
    "6. EXTRA CREDIT 1: Using the value of K obtained in (3) above, vary the number of folds used for cross-validation across an interesting range, e.g. [ 2, 3, 5, 6, 10, 15]. How does classifier accuracy vary with the number of folds used? Do you think there exists an optimal number of folds to use for this particular problem? Why or why not?"
   ]
  },
  {
   "cell_type": "code",
   "execution_count": null,
   "metadata": {
    "collapsed": true
   },
   "outputs": [],
   "source": []
  },
  {
   "cell_type": "raw",
   "metadata": {},
   "source": [
    "7. EXTRA CREDIT 2: Write your own implementation of KNN classification in Python, without using the methods from sklearn. Compare your results with the results you obtained using sklearn."
   ]
  },
  {
   "cell_type": "code",
   "execution_count": null,
   "metadata": {
    "collapsed": true
   },
   "outputs": [],
   "source": []
  }
 ],
 "metadata": {
  "kernelspec": {
   "display_name": "Python 2",
   "language": "python",
   "name": "python2"
  },
  "language_info": {
   "codemirror_mode": {
    "name": "ipython",
    "version": 2
   },
   "file_extension": ".py",
   "mimetype": "text/x-python",
   "name": "python",
   "nbconvert_exporter": "python",
   "pygments_lexer": "ipython2",
   "version": "2.7.9"
  }
 },
 "nbformat": 4,
 "nbformat_minor": 0
}
