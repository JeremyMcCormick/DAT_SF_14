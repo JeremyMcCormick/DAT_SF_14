{
 "cells": [
  {
   "cell_type": "code",
   "execution_count": 2,
   "metadata": {
    "collapsed": true
   },
   "outputs": [],
   "source": [
    "# python imports\n",
    "%matplotlib inline\n",
    "from __future__ import division\n",
    "import pandas as pd\n",
    "import numpy as np\n",
    "import matplotlib.pyplot as plt\n",
    "from sklearn.datasets import load_iris\n",
    "\n",
    "from sklearn import neighbors, datasets, feature_selection\n",
    "from sklearn.cross_validation import train_test_split, cross_val_score\n",
    "\n",
    "import collections\n",
    "import operator\n",
    "import math"
   ]
  },
  {
   "cell_type": "code",
   "execution_count": 3,
   "metadata": {
    "collapsed": false
   },
   "outputs": [],
   "source": [
    "# Load in the data\n",
    "iris = datasets.load_iris()\n",
    "iris_df = pd.DataFrame(iris.data, columns=iris.feature_names)\n",
    "\n",
    "iris_df['Target'] = iris.target"
   ]
  },
  {
   "cell_type": "raw",
   "metadata": {},
   "source": [
    "1. Implement KNN classification, using the sklearn package. "
   ]
  },
  {
   "cell_type": "code",
   "execution_count": 4,
   "metadata": {
    "collapsed": false
   },
   "outputs": [
    {
     "data": {
      "text/plain": [
       "[<matplotlib.lines.Line2D at 0x10b83b750>]"
      ]
     },
     "execution_count": 4,
     "metadata": {},
     "output_type": "execute_result"
    },
    {
     "data": {
      "image/png": "[encoded data removed]",
      "text/plain": [
       "<matplotlib.figure.Figure at 0x1030a4c10>"
      ]
     },
     "metadata": {},
     "output_type": "display_data"
    }
   ],
   "source": [
    "# split data and target classifications into train and test sets and run KNN classification\n",
    "def knn(data, target, n_neighbors):\n",
    "\n",
    "    # split the data into train and test datasets\n",
    "    x_train, x_test, y_train, y_test = train_test_split(data, target, test_size=0.3, random_state=12)\n",
    "\n",
    "    # Loop through each K value, run KNN classification, and append the scores to the output\n",
    "    scores = []\n",
    "    for n in n_neighbors:\n",
    "        clf = neighbors.KNeighborsClassifier(n)\n",
    "        clf.fit(x_train, y_train)\n",
    "        scores.append(clf.score(x_test, y_test))\n",
    "        \n",
    "    return scores\n",
    "\n",
    "# use odd for K from 1 to 51\n",
    "n_neighbors = range(1, 51, 2)\n",
    "\n",
    "# get the scores\n",
    "scores = knn(iris.data, iris.target, n_neighbors)\n",
    "\n",
    "# plot result as K vs score\n",
    "plt.plot(n_neighbors, scores, linewidth=3.0)"
   ]
  },
  {
   "cell_type": "raw",
   "metadata": {
    "collapsed": true
   },
   "source": [
    "2. Use the sklearn package to implement cross-validation for your classifier. Use 5 folds for your cross-validation."
   ]
  },
  {
   "cell_type": "code",
   "execution_count": 5,
   "metadata": {
    "collapsed": false
   },
   "outputs": [
    {
     "name": "stdout",
     "output_type": "stream",
     "text": [
      "[ 0.96666667  0.96666667  0.93333333  0.93333333  1.        ]\n",
      "0.96\n",
      "[ 0.96666667  0.96666667  0.93333333  0.96666667  1.        ]\n",
      "0.966666666667\n",
      "[ 0.96666667  1.          0.93333333  0.96666667  1.        ]\n",
      "0.973333333333\n",
      "[ 0.96666667  1.          0.96666667  0.96666667  1.        ]\n",
      "0.98\n",
      "[ 0.96666667  1.          0.96666667  0.93333333  1.        ]\n",
      "0.973333333333\n",
      "[ 0.93333333  1.          1.          0.96666667  1.        ]\n",
      "0.98\n",
      "[ 0.93333333  1.          0.96666667  0.96666667  1.        ]\n",
      "0.973333333333\n",
      "[ 0.93333333  1.          0.93333333  0.96666667  1.        ]\n",
      "0.966666666667\n",
      "[ 0.93333333  1.          0.93333333  0.96666667  1.        ]\n",
      "0.966666666667\n",
      "[ 0.93333333  1.          0.93333333  0.96666667  1.        ]\n",
      "0.966666666667\n",
      "[ 0.93333333  1.          0.93333333  0.96666667  1.        ]\n",
      "0.966666666667\n",
      "[ 0.93333333  1.          0.93333333  0.93333333  1.        ]\n",
      "0.96\n",
      "[ 0.93333333  0.96666667  0.93333333  0.96666667  1.        ]\n",
      "0.96\n",
      "[ 0.9         0.96666667  0.93333333  0.93333333  1.        ]\n",
      "0.946666666667\n",
      "[ 0.9         0.96666667  0.9         0.9         1.        ]\n",
      "0.933333333333\n",
      "[ 0.9         0.96666667  0.9         0.9         1.        ]\n",
      "0.933333333333\n",
      "[ 0.93333333  0.96666667  0.9         0.9         1.        ]\n",
      "0.94\n",
      "[ 0.93333333  0.96666667  0.93333333  0.93333333  1.        ]\n",
      "0.953333333333\n",
      "[ 0.9         0.96666667  0.93333333  0.93333333  1.        ]\n",
      "0.946666666667\n",
      "[ 0.9         0.93333333  0.93333333  0.93333333  1.        ]\n",
      "0.94\n",
      "[ 0.9         0.93333333  0.93333333  0.93333333  1.        ]\n",
      "0.94\n",
      "[ 0.9         0.93333333  0.93333333  0.93333333  1.        ]\n",
      "0.94\n",
      "[ 0.9         0.93333333  0.9         0.96666667  1.        ]\n",
      "0.94\n",
      "[ 0.9         0.93333333  0.86666667  0.96666667  0.96666667]\n",
      "0.926666666667\n",
      "[ 0.9         0.93333333  0.9         0.96666667  1.        ]\n",
      "0.94\n"
     ]
    }
   ],
   "source": [
    "# run 5-fold cross-validation on the input and targets and return the scores\n",
    "def xvalidate(data, target, n_neighbor, n_folds):\n",
    "    clf = neighbors.KNeighborsClassifier(n_neighbor, weights='uniform')\n",
    "    clf.fit(data, target)\n",
    "    scores = cross_val_score(clf, data, target, cv=n_folds)\n",
    "    return scores\n",
    "\n",
    "# simple util method for getting the mean value of a list\n",
    "def mean(values):\n",
    "    tot = 0\n",
    "    for v in values:\n",
    "        tot += v\n",
    "    return tot / len(values)\n",
    "\n",
    "# run cross-validation using a series of K values\n",
    "for x in range(1, 51, 2):\n",
    "    xvalidate_scores = xvalidate(iris.data, iris.target, x, 5)\n",
    "    print xvalidate_scores\n",
    "    print mean(xvalidate_scores)"
   ]
  },
  {
   "cell_type": "raw",
   "metadata": {},
   "source": [
    "3. Use your KNN classifier and cross-validation code from (1) and (2) above to determine the optimal value of K (number of nearest neighbors to consult) for this Iris dataset. Hint: This hyperparameter will be a number between 1 and 150."
   ]
  },
  {
   "cell_type": "code",
   "execution_count": 6,
   "metadata": {
    "collapsed": false
   },
   "outputs": [
    {
     "name": "stdout",
     "output_type": "stream",
     "text": [
      "150\n"
     ]
    },
    {
     "ename": "TypeError",
     "evalue": "xvalidate() takes exactly 4 arguments (3 given)",
     "output_type": "error",
     "traceback": [
      "\u001b[0;31m---------------------------------------------------------------------------\u001b[0m",
      "\u001b[0;31mTypeError\u001b[0m                                 Traceback (most recent call last)",
      "\u001b[0;32m<ipython-input-6-0591a3d2cb70>\u001b[0m in \u001b[0;36m<module>\u001b[0;34m()\u001b[0m\n\u001b[1;32m     15\u001b[0m     \u001b[0;32mreturn\u001b[0m \u001b[0mmax_index\u001b[0m\u001b[0;34m,\u001b[0m \u001b[0mneighbor_scores\u001b[0m\u001b[0;34m\u001b[0m\u001b[0m\n\u001b[1;32m     16\u001b[0m \u001b[0;34m\u001b[0m\u001b[0m\n\u001b[0;32m---> 17\u001b[0;31m \u001b[0mk\u001b[0m\u001b[0;34m,\u001b[0m \u001b[0mneighbor_scores\u001b[0m \u001b[0;34m=\u001b[0m \u001b[0mfind_optimal_k\u001b[0m\u001b[0;34m(\u001b[0m\u001b[0miris\u001b[0m\u001b[0;34m.\u001b[0m\u001b[0mdata\u001b[0m\u001b[0;34m)\u001b[0m\u001b[0;34m\u001b[0m\u001b[0m\n\u001b[0m\u001b[1;32m     18\u001b[0m \u001b[0;32mprint\u001b[0m \u001b[0;34m\"neighbor scores\"\u001b[0m\u001b[0;34m,\u001b[0m \u001b[0mneighbor_scores\u001b[0m\u001b[0;34m\u001b[0m\u001b[0m\n\u001b[1;32m     19\u001b[0m \u001b[0;32mprint\u001b[0m \u001b[0;34m\"optimal K =\"\u001b[0m\u001b[0;34m,\u001b[0m \u001b[0mk\u001b[0m\u001b[0;34m\u001b[0m\u001b[0m\n",
      "\u001b[0;32m<ipython-input-6-0591a3d2cb70>\u001b[0m in \u001b[0;36mfind_optimal_k\u001b[0;34m(data)\u001b[0m\n\u001b[1;32m      7\u001b[0m     \u001b[0mneighbor_scores\u001b[0m \u001b[0;34m=\u001b[0m \u001b[0;34m{\u001b[0m\u001b[0;34m}\u001b[0m\u001b[0;34m\u001b[0m\u001b[0m\n\u001b[1;32m      8\u001b[0m     \u001b[0;32mfor\u001b[0m \u001b[0mx\u001b[0m \u001b[0;32min\u001b[0m \u001b[0mrange\u001b[0m\u001b[0;34m(\u001b[0m\u001b[0;36m1\u001b[0m\u001b[0;34m,\u001b[0m \u001b[0mmax_neighbors\u001b[0m\u001b[0;34m,\u001b[0m \u001b[0;36m1\u001b[0m\u001b[0;34m)\u001b[0m\u001b[0;34m:\u001b[0m\u001b[0;34m\u001b[0m\u001b[0m\n\u001b[0;32m----> 9\u001b[0;31m         \u001b[0mxvalidate_scores\u001b[0m \u001b[0;34m=\u001b[0m \u001b[0mxvalidate\u001b[0m\u001b[0;34m(\u001b[0m\u001b[0miris\u001b[0m\u001b[0;34m.\u001b[0m\u001b[0mdata\u001b[0m\u001b[0;34m,\u001b[0m \u001b[0miris\u001b[0m\u001b[0;34m.\u001b[0m\u001b[0mtarget\u001b[0m\u001b[0;34m,\u001b[0m \u001b[0mx\u001b[0m\u001b[0;34m)\u001b[0m\u001b[0;34m\u001b[0m\u001b[0m\n\u001b[0m\u001b[1;32m     10\u001b[0m         \u001b[0mavg\u001b[0m \u001b[0;34m=\u001b[0m \u001b[0mmean\u001b[0m\u001b[0;34m(\u001b[0m\u001b[0mxvalidate_scores\u001b[0m\u001b[0;34m)\u001b[0m\u001b[0;34m\u001b[0m\u001b[0m\n\u001b[1;32m     11\u001b[0m         \u001b[0mneighbor_scores\u001b[0m\u001b[0;34m[\u001b[0m\u001b[0mx\u001b[0m\u001b[0;34m]\u001b[0m \u001b[0;34m=\u001b[0m \u001b[0mavg\u001b[0m\u001b[0;34m\u001b[0m\u001b[0m\n",
      "\u001b[0;31mTypeError\u001b[0m: xvalidate() takes exactly 4 arguments (3 given)"
     ]
    }
   ],
   "source": [
    "print len(iris.data)\n",
    "\n",
    "# find the optimal K which is the highest value of K with the best score\n",
    "# determined by 5-fold cross-validation on a list of odd-numbered K from 1 to 51\n",
    "def find_optimal_k(data):\n",
    "    max_neighbors = int(len(data) / 2)\n",
    "    neighbor_scores = {}\n",
    "    for x in range(1, max_neighbors, 1):\n",
    "        xvalidate_scores = xvalidate(iris.data, iris.target, x)        \n",
    "        avg = mean(xvalidate_scores)\n",
    "        neighbor_scores[x] = avg\n",
    "    max_value = max(neighbor_scores.values())\n",
    "    indices = [i for i, x in enumerate(neighbor_scores.values()) if x == max_value]\n",
    "    max_index = indices[-1] + 1 # add 1 from 0-based indexing\n",
    "    return max_index, neighbor_scores\n",
    "\n",
    "k, neighbor_scores = find_optimal_k(iris.data)\n",
    "print \"neighbor scores\", neighbor_scores\n",
    "print \"optimal K =\", k"
   ]
  },
  {
   "cell_type": "raw",
   "metadata": {},
   "source": [
    "4. Using matplotlib, plot classifier accuracy versus the hyperparameter K for a range of K that you consider interesting. Explain in words what you are seeing."
   ]
  },
  {
   "cell_type": "code",
   "execution_count": null,
   "metadata": {
    "collapsed": false
   },
   "outputs": [],
   "source": [
    "plt.plot(neighbor_scores.keys(), neighbor_scores.values())"
   ]
  },
  {
   "cell_type": "raw",
   "metadata": {},
   "source": [
    "There is a \"tie\" for the optimal value of K between 6 to 12.  Several K values in this range scored the same (at about 0.98).  The optimal value of K is 12 if we consider \"optimal\" to be the highest value of K with the highest score (in case of a tie).  As K is increased and more neighbors are added to the classication, the accuracy decreases, due to the majority classification value tending to dominate as locality decreases."
   ]
  },
  {
   "cell_type": "raw",
   "metadata": {},
   "source": [
    "5. Now, write your own implementation of cross-validation in Python without using the cross-validation methods from sklearn. Cross validation is a very important concept. Implementing it yourself in Python is the best way to learn and understand it. Compare the results of your cross-validation code with your results using the cross-validation in sklearn."
   ]
  },
  {
   "cell_type": "code",
   "execution_count": null,
   "metadata": {
    "collapsed": false
   },
   "outputs": [],
   "source": [
    "import random\n",
    "def my_xvalidate(data, target, folds, n_neighbors):\n",
    "    \n",
    "    # make a list of the indices in the dataset\n",
    "    data_indices = range(0, len(data), 1)\n",
    "    \n",
    "    # shuffle the indices\n",
    "    random.shuffle(data_indices)\n",
    "    \n",
    "    # get the number of items in each fold\n",
    "    n_items = int((len(data) / folds))\n",
    "    \n",
    "    # start index for fold\n",
    "    begin_index = 0\n",
    "    \n",
    "    # end index for fold\n",
    "    end_index = n_items - 1\n",
    "    \n",
    "    scores = []\n",
    "    \n",
    "    # iterate over the folds\n",
    "    for n_fold in range(folds):\n",
    "        \n",
    "        # get the data for this fold\n",
    "        fold_data = data[begin_index:end_index, :]\n",
    "        \n",
    "        # get the labels for this fold\n",
    "        fold_labels = target[begin_index:end_index]\n",
    "        \n",
    "        # score this fold\n",
    "        fold_score = knn(fold_data, fold_labels, n_neighbors)\n",
    "        \n",
    "        # append the score for this fold\n",
    "        scores.append(fold_score[0])\n",
    "        \n",
    "        # increment begin and end indices for next fold\n",
    "        begin_index += n_items\n",
    "        end_index += n_items    \n",
    "    return scores\n",
    "    \n",
    "# run cross-validation on all iris data using 5-fold cross-validation with K = 11\n",
    "scores = my_xvalidate(iris.data, iris.target, 5, [11])\n",
    "print scores\n",
    "print mean(scores)"
   ]
  },
  {
   "cell_type": "raw",
   "metadata": {},
   "source": [
    "6. EXTRA CREDIT 1: Using the value of K obtained in (3) above, vary the number of folds used for cross-validation across an interesting range, e.g. [ 2, 3, 5, 6, 10, 15]. How does classifier accuracy vary with the number of folds used? Do you think there exists an optimal number of folds to use for this particular problem? Why or why not?"
   ]
  },
  {
   "cell_type": "code",
   "execution_count": null,
   "metadata": {
    "collapsed": false
   },
   "outputs": [],
   "source": [
    "n_folds = [2, 3, 5, 6, 10, 15]\n",
    "xvalidate_scores = []\n",
    "for f in n_folds:\n",
    "    scores = xvalidate(iris.data, iris.target, 12, f)\n",
    "    xvalidate_scores.append(mean(scores))\n",
    "    \n",
    "plt.plot(n_neighbors, xvalidate_scores)"
   ]
  },
  {
   "cell_type": "raw",
   "metadata": {},
   "source": [
    "Classifier accuracy is optimal at 5 folds.  Fewer folds than this results in less accuracy and more folds results in less accuracy too.  There is a steep drop as number of folds is decreased from 5 where increasing the number of folds only results in a gradual loss of accuracy.  The change in accuracy between all the tested fold values is not drastic.  Since 5 folds results in the best classifier accuracy, it is clearly the optimal value."
   ]
  },
  {
   "cell_type": "raw",
   "metadata": {},
   "source": [
    "7. EXTRA CREDIT 2: Write your own implementation of KNN classification in Python, without using the methods from sklearn. Compare your results with the results you obtained using sklearn."
   ]
  },
  {
   "cell_type": "code",
   "execution_count": 9,
   "metadata": {
    "collapsed": false
   },
   "outputs": [
    {
     "name": "stdout",
     "output_type": "stream",
     "text": [
      "score 0.88\n"
     ]
    }
   ],
   "source": [
    "import math\n",
    "\n",
    "# compute distance between two N-dimensional points\n",
    "def dist(data1, data2):\n",
    "    tot = 0\n",
    "    \n",
    "    # loop over each dimension in the data\n",
    "    for i in range(len(data1)):\n",
    "        # append distance value for a single dimension\n",
    "        d = data1[i] - data2[i]\n",
    "        tot += math.pow(d, 2)\n",
    "        \n",
    "    # return square root of sums\n",
    "    return math.sqrt(tot)\n",
    "\n",
    "# get the label of a point by looking at the classification of its K closest neighbors\n",
    "def get_label(data, labels, point_index, k):\n",
    "        \n",
    "    # get the point at the index\n",
    "    point = data[point_index]\n",
    "        \n",
    "    # get the distances between this point and every other one\n",
    "    distances = {}\n",
    "    for i in range(len(data)):\n",
    "        if (i != point_index):\n",
    "            distances[i] = dist(data[i], point)\n",
    "        \n",
    "    # sort the distances\n",
    "    sorted_distances = sorted(distances.items(), key=operator.itemgetter(1))\n",
    "         \n",
    "    # get the data indices of the closest K points, ignoring distance 0 which is this point! \n",
    "    indices = []\n",
    "    for j in range(k+1):\n",
    "        if (sorted_distances[j][1] != 0.):\n",
    "            indices.append(sorted_distances[j][0])\n",
    "            \n",
    "    # get the labels of these points\n",
    "    neighbor_labels = []\n",
    "    for i in indices:\n",
    "        neighbor_labels.append(labels[i])\n",
    "                \n",
    "    # count the label values\n",
    "    label_counts = collections.Counter(neighbor_labels)\n",
    "    sorted_counts = sorted(label_counts.items(), key=operator.itemgetter(1))\n",
    "        \n",
    "    # return the label with the most counts\n",
    "    return sorted_counts[0][0]\n",
    "        \n",
    "def my_knn(values, target, k):\n",
    "    labels = []\n",
    "    # loop over the values\n",
    "    for i in range(len(values)):\n",
    "        \n",
    "        # get the features which will be classified\n",
    "        value = values[i]\n",
    "        \n",
    "        # get the label for a single value \n",
    "        label = get_label(values, target, i, k)\n",
    "        \n",
    "        # append the label for this point\n",
    "        labels.append(label)\n",
    "\n",
    "    # return all label values for the inputs\n",
    "    return labels\n",
    "\n",
    "# compute score by comparing test and train data\n",
    "def compute_score(test, train):\n",
    "    nright = 0\n",
    "    for i in range(len(test)):\n",
    "        if (test[i] == train[i]):\n",
    "            nright += 1\n",
    "    return nright / len(test)\n",
    "\n",
    "# get the labels from running my KNN method (example of just running on all data and labels\n",
    "# without using stratification)\n",
    "labels = my_knn(iris.data, iris.target, 5)\n",
    "\n",
    "#print \"labels\", labels\n",
    "\n",
    "score = compute_score(labels, iris.target)\n",
    "print \"score\", score"
   ]
  },
  {
   "cell_type": "code",
   "execution_count": null,
   "metadata": {
    "collapsed": true
   },
   "outputs": [],
   "source": []
  }
 ],
 "metadata": {
  "kernelspec": {
   "display_name": "Python 2",
   "language": "python",
   "name": "python2"
  },
  "language_info": {
   "codemirror_mode": {
    "name": "ipython",
    "version": 2
   },
   "file_extension": ".py",
   "mimetype": "text/x-python",
   "name": "python",
   "nbconvert_exporter": "python",
   "pygments_lexer": "ipython2",
   "version": "2.7.9"
  }
 },
 "nbformat": 4,
 "nbformat_minor": 0
}
